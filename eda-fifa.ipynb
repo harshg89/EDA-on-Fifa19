{
 "cells": [
  {
   "cell_type": "code",
   "execution_count": 1,
   "id": "5cf4190d",
   "metadata": {
    "_cell_guid": "b1076dfc-b9ad-4769-8c92-a6c4dae69d19",
    "_uuid": "8f2839f25d086af736a60e9eeb907d3b93b6e0e5",
    "execution": {
     "iopub.execute_input": "2022-03-05T12:04:39.373121Z",
     "iopub.status.busy": "2022-03-05T12:04:39.371909Z",
     "iopub.status.idle": "2022-03-05T12:04:39.398349Z",
     "shell.execute_reply": "2022-03-05T12:04:39.398936Z",
     "shell.execute_reply.started": "2022-03-05T11:05:23.914754Z"
    },
    "papermill": {
     "duration": 0.105396,
     "end_time": "2022-03-05T12:04:39.399267",
     "exception": false,
     "start_time": "2022-03-05T12:04:39.293871",
     "status": "completed"
    },
    "tags": []
   },
   "outputs": [
    {
     "name": "stdout",
     "output_type": "stream",
     "text": [
      "/kaggle/input/fifa19eda/fifa_eda.csv\n"
     ]
    }
   ],
   "source": [
    "# This Python 3 environment comes with many helpful analytics libraries installed\n",
    "# It is defined by the kaggle/python Docker image: https://github.com/kaggle/docker-python\n",
    "# For example, here's several helpful packages to load\n",
    "\n",
    "import numpy as np # linear algebra\n",
    "import pandas as pd # data processing, CSV file I/O (e.g. pd.read_csv)\n",
    "\n",
    "# Input data files are available in the read-only \"../input/\" directory\n",
    "# For example, running this (by clicking run or pressing Shift+Enter) will list all files under the input directory\n",
    "\n",
    "import os\n",
    "for dirname, _, filenames in os.walk('/kaggle/input'):\n",
    "    for filename in filenames:\n",
    "        print(os.path.join(dirname, filename))\n",
    "\n",
    "# You can write up to 20GB to the current directory (/kaggle/working/) that gets preserved as output when you create a version using \"Save & Run All\" \n",
    "# You can also write temporary files to /kaggle/temp/, but they won't be saved outside of the current session"
   ]
  },
  {
   "cell_type": "code",
   "execution_count": 2,
   "id": "1702f4e9",
   "metadata": {
    "execution": {
     "iopub.execute_input": "2022-03-05T12:04:39.526736Z",
     "iopub.status.busy": "2022-03-05T12:04:39.525609Z",
     "iopub.status.idle": "2022-03-05T12:04:39.653376Z",
     "shell.execute_reply": "2022-03-05T12:04:39.654173Z",
     "shell.execute_reply.started": "2022-03-05T11:05:23.933572Z"
    },
    "papermill": {
     "duration": 0.191651,
     "end_time": "2022-03-05T12:04:39.654364",
     "exception": false,
     "start_time": "2022-03-05T12:04:39.462713",
     "status": "completed"
    },
    "tags": []
   },
   "outputs": [
    {
     "data": {
      "text/html": [
       "<div>\n",
       "<style scoped>\n",
       "    .dataframe tbody tr th:only-of-type {\n",
       "        vertical-align: middle;\n",
       "    }\n",
       "\n",
       "    .dataframe tbody tr th {\n",
       "        vertical-align: top;\n",
       "    }\n",
       "\n",
       "    .dataframe thead th {\n",
       "        text-align: right;\n",
       "    }\n",
       "</style>\n",
       "<table border=\"1\" class=\"dataframe\">\n",
       "  <thead>\n",
       "    <tr style=\"text-align: right;\">\n",
       "      <th></th>\n",
       "      <th>ID</th>\n",
       "      <th>Name</th>\n",
       "      <th>Age</th>\n",
       "      <th>Nationality</th>\n",
       "      <th>Overall</th>\n",
       "      <th>Potential</th>\n",
       "      <th>Club</th>\n",
       "      <th>Value</th>\n",
       "      <th>Wage</th>\n",
       "      <th>Preferred Foot</th>\n",
       "      <th>International Reputation</th>\n",
       "      <th>Skill Moves</th>\n",
       "      <th>Position</th>\n",
       "      <th>Joined</th>\n",
       "      <th>Contract Valid Until</th>\n",
       "      <th>Height</th>\n",
       "      <th>Weight</th>\n",
       "      <th>Release Clause</th>\n",
       "    </tr>\n",
       "  </thead>\n",
       "  <tbody>\n",
       "    <tr>\n",
       "      <th>0</th>\n",
       "      <td>158023</td>\n",
       "      <td>L. Messi</td>\n",
       "      <td>31</td>\n",
       "      <td>Argentina</td>\n",
       "      <td>94</td>\n",
       "      <td>94</td>\n",
       "      <td>FC Barcelona</td>\n",
       "      <td>110500.0</td>\n",
       "      <td>565.0</td>\n",
       "      <td>Left</td>\n",
       "      <td>5.0</td>\n",
       "      <td>4.0</td>\n",
       "      <td>RF</td>\n",
       "      <td>2004</td>\n",
       "      <td>2021-01-01</td>\n",
       "      <td>5.583333</td>\n",
       "      <td>159.0</td>\n",
       "      <td>226500.0</td>\n",
       "    </tr>\n",
       "    <tr>\n",
       "      <th>1</th>\n",
       "      <td>20801</td>\n",
       "      <td>Cristiano Ronaldo</td>\n",
       "      <td>33</td>\n",
       "      <td>Portugal</td>\n",
       "      <td>94</td>\n",
       "      <td>94</td>\n",
       "      <td>Juventus</td>\n",
       "      <td>77000.0</td>\n",
       "      <td>405.0</td>\n",
       "      <td>Right</td>\n",
       "      <td>5.0</td>\n",
       "      <td>5.0</td>\n",
       "      <td>ST</td>\n",
       "      <td>2018</td>\n",
       "      <td>2022-01-01</td>\n",
       "      <td>6.166667</td>\n",
       "      <td>183.0</td>\n",
       "      <td>127100.0</td>\n",
       "    </tr>\n",
       "    <tr>\n",
       "      <th>2</th>\n",
       "      <td>190871</td>\n",
       "      <td>Neymar Jr</td>\n",
       "      <td>26</td>\n",
       "      <td>Brazil</td>\n",
       "      <td>92</td>\n",
       "      <td>93</td>\n",
       "      <td>Paris Saint-Germain</td>\n",
       "      <td>118500.0</td>\n",
       "      <td>290.0</td>\n",
       "      <td>Right</td>\n",
       "      <td>5.0</td>\n",
       "      <td>5.0</td>\n",
       "      <td>LW</td>\n",
       "      <td>2017</td>\n",
       "      <td>2022-01-01</td>\n",
       "      <td>5.750000</td>\n",
       "      <td>150.0</td>\n",
       "      <td>228100.0</td>\n",
       "    </tr>\n",
       "    <tr>\n",
       "      <th>3</th>\n",
       "      <td>193080</td>\n",
       "      <td>De Gea</td>\n",
       "      <td>27</td>\n",
       "      <td>Spain</td>\n",
       "      <td>91</td>\n",
       "      <td>93</td>\n",
       "      <td>Manchester United</td>\n",
       "      <td>72000.0</td>\n",
       "      <td>260.0</td>\n",
       "      <td>Right</td>\n",
       "      <td>4.0</td>\n",
       "      <td>1.0</td>\n",
       "      <td>GK</td>\n",
       "      <td>2011</td>\n",
       "      <td>2020-01-01</td>\n",
       "      <td>6.333333</td>\n",
       "      <td>168.0</td>\n",
       "      <td>138600.0</td>\n",
       "    </tr>\n",
       "    <tr>\n",
       "      <th>4</th>\n",
       "      <td>192985</td>\n",
       "      <td>K. De Bruyne</td>\n",
       "      <td>27</td>\n",
       "      <td>Belgium</td>\n",
       "      <td>91</td>\n",
       "      <td>92</td>\n",
       "      <td>Manchester City</td>\n",
       "      <td>102000.0</td>\n",
       "      <td>355.0</td>\n",
       "      <td>Right</td>\n",
       "      <td>4.0</td>\n",
       "      <td>4.0</td>\n",
       "      <td>RCM</td>\n",
       "      <td>2015</td>\n",
       "      <td>2023-01-01</td>\n",
       "      <td>5.916667</td>\n",
       "      <td>154.0</td>\n",
       "      <td>196400.0</td>\n",
       "    </tr>\n",
       "  </tbody>\n",
       "</table>\n",
       "</div>"
      ],
      "text/plain": [
       "       ID               Name  Age Nationality  Overall  Potential  \\\n",
       "0  158023           L. Messi   31   Argentina       94         94   \n",
       "1   20801  Cristiano Ronaldo   33    Portugal       94         94   \n",
       "2  190871          Neymar Jr   26      Brazil       92         93   \n",
       "3  193080             De Gea   27       Spain       91         93   \n",
       "4  192985       K. De Bruyne   27     Belgium       91         92   \n",
       "\n",
       "                  Club     Value   Wage Preferred Foot  \\\n",
       "0         FC Barcelona  110500.0  565.0           Left   \n",
       "1             Juventus   77000.0  405.0          Right   \n",
       "2  Paris Saint-Germain  118500.0  290.0          Right   \n",
       "3    Manchester United   72000.0  260.0          Right   \n",
       "4      Manchester City  102000.0  355.0          Right   \n",
       "\n",
       "   International Reputation  Skill Moves Position  Joined  \\\n",
       "0                       5.0          4.0       RF    2004   \n",
       "1                       5.0          5.0       ST    2018   \n",
       "2                       5.0          5.0       LW    2017   \n",
       "3                       4.0          1.0       GK    2011   \n",
       "4                       4.0          4.0      RCM    2015   \n",
       "\n",
       "  Contract Valid Until    Height  Weight  Release Clause  \n",
       "0           2021-01-01  5.583333   159.0        226500.0  \n",
       "1           2022-01-01  6.166667   183.0        127100.0  \n",
       "2           2022-01-01  5.750000   150.0        228100.0  \n",
       "3           2020-01-01  6.333333   168.0        138600.0  \n",
       "4           2023-01-01  5.916667   154.0        196400.0  "
      ]
     },
     "execution_count": 2,
     "metadata": {},
     "output_type": "execute_result"
    }
   ],
   "source": [
    "df = pd.read_csv(\"../input/fifa19eda/fifa_eda.csv\")\n",
    "df.head()"
   ]
  },
  {
   "cell_type": "code",
   "execution_count": 3,
   "id": "6502eef4",
   "metadata": {
    "execution": {
     "iopub.execute_input": "2022-03-05T12:04:39.776157Z",
     "iopub.status.busy": "2022-03-05T12:04:39.775159Z",
     "iopub.status.idle": "2022-03-05T12:04:39.795997Z",
     "shell.execute_reply": "2022-03-05T12:04:39.796478Z",
     "shell.execute_reply.started": "2022-03-05T11:05:24.022150Z"
    },
    "papermill": {
     "duration": 0.083571,
     "end_time": "2022-03-05T12:04:39.796656",
     "exception": false,
     "start_time": "2022-03-05T12:04:39.713085",
     "status": "completed"
    },
    "tags": []
   },
   "outputs": [
    {
     "data": {
      "text/plain": [
       "ID                            0\n",
       "Name                          0\n",
       "Age                           0\n",
       "Nationality                   0\n",
       "Overall                       0\n",
       "Potential                     0\n",
       "Club                        241\n",
       "Value                       252\n",
       "Wage                          0\n",
       "Preferred Foot                0\n",
       "International Reputation     48\n",
       "Skill Moves                  48\n",
       "Position                      0\n",
       "Joined                        0\n",
       "Contract Valid Until        289\n",
       "Height                        0\n",
       "Weight                        0\n",
       "Release Clause                0\n",
       "dtype: int64"
      ]
     },
     "execution_count": 3,
     "metadata": {},
     "output_type": "execute_result"
    }
   ],
   "source": [
    "df.isna().sum()"
   ]
  },
  {
   "cell_type": "code",
   "execution_count": 4,
   "id": "b8ec5e65",
   "metadata": {
    "execution": {
     "iopub.execute_input": "2022-03-05T12:04:39.921009Z",
     "iopub.status.busy": "2022-03-05T12:04:39.918998Z",
     "iopub.status.idle": "2022-03-05T12:04:39.924579Z",
     "shell.execute_reply": "2022-03-05T12:04:39.924105Z",
     "shell.execute_reply.started": "2022-03-05T11:05:24.044529Z"
    },
    "papermill": {
     "duration": 0.068719,
     "end_time": "2022-03-05T12:04:39.924735",
     "exception": false,
     "start_time": "2022-03-05T12:04:39.856016",
     "status": "completed"
    },
    "tags": []
   },
   "outputs": [
    {
     "data": {
      "text/plain": [
       "(18207, 18)"
      ]
     },
     "execution_count": 4,
     "metadata": {},
     "output_type": "execute_result"
    }
   ],
   "source": [
    "df.shape"
   ]
  },
  {
   "cell_type": "code",
   "execution_count": 5,
   "id": "b922e9b2",
   "metadata": {
    "execution": {
     "iopub.execute_input": "2022-03-05T12:04:40.063299Z",
     "iopub.status.busy": "2022-03-05T12:04:40.051478Z",
     "iopub.status.idle": "2022-03-05T12:04:40.072487Z",
     "shell.execute_reply": "2022-03-05T12:04:40.073011Z",
     "shell.execute_reply.started": "2022-03-05T11:05:24.114699Z"
    },
    "papermill": {
     "duration": 0.088043,
     "end_time": "2022-03-05T12:04:40.073178",
     "exception": false,
     "start_time": "2022-03-05T12:04:39.985135",
     "status": "completed"
    },
    "tags": []
   },
   "outputs": [],
   "source": [
    "df = df.dropna()"
   ]
  },
  {
   "cell_type": "code",
   "execution_count": 6,
   "id": "9f489c6a",
   "metadata": {
    "execution": {
     "iopub.execute_input": "2022-03-05T12:04:40.209493Z",
     "iopub.status.busy": "2022-03-05T12:04:40.197633Z",
     "iopub.status.idle": "2022-03-05T12:04:40.216408Z",
     "shell.execute_reply": "2022-03-05T12:04:40.215913Z",
     "shell.execute_reply.started": "2022-03-05T11:05:24.154331Z"
    },
    "papermill": {
     "duration": 0.083263,
     "end_time": "2022-03-05T12:04:40.216546",
     "exception": false,
     "start_time": "2022-03-05T12:04:40.133283",
     "status": "completed"
    },
    "tags": []
   },
   "outputs": [
    {
     "data": {
      "text/plain": [
       "ID                          0\n",
       "Name                        0\n",
       "Age                         0\n",
       "Nationality                 0\n",
       "Overall                     0\n",
       "Potential                   0\n",
       "Club                        0\n",
       "Value                       0\n",
       "Wage                        0\n",
       "Preferred Foot              0\n",
       "International Reputation    0\n",
       "Skill Moves                 0\n",
       "Position                    0\n",
       "Joined                      0\n",
       "Contract Valid Until        0\n",
       "Height                      0\n",
       "Weight                      0\n",
       "Release Clause              0\n",
       "dtype: int64"
      ]
     },
     "execution_count": 6,
     "metadata": {},
     "output_type": "execute_result"
    }
   ],
   "source": [
    "df.isna().sum()"
   ]
  },
  {
   "cell_type": "code",
   "execution_count": 7,
   "id": "f94e66e0",
   "metadata": {
    "execution": {
     "iopub.execute_input": "2022-03-05T12:04:40.340242Z",
     "iopub.status.busy": "2022-03-05T12:04:40.339590Z",
     "iopub.status.idle": "2022-03-05T12:04:40.358201Z",
     "shell.execute_reply": "2022-03-05T12:04:40.358694Z",
     "shell.execute_reply.started": "2022-03-05T11:05:24.245506Z"
    },
    "papermill": {
     "duration": 0.08145,
     "end_time": "2022-03-05T12:04:40.358862",
     "exception": false,
     "start_time": "2022-03-05T12:04:40.277412",
     "status": "completed"
    },
    "tags": []
   },
   "outputs": [
    {
     "data": {
      "text/html": [
       "<div>\n",
       "<style scoped>\n",
       "    .dataframe tbody tr th:only-of-type {\n",
       "        vertical-align: middle;\n",
       "    }\n",
       "\n",
       "    .dataframe tbody tr th {\n",
       "        vertical-align: top;\n",
       "    }\n",
       "\n",
       "    .dataframe thead th {\n",
       "        text-align: right;\n",
       "    }\n",
       "</style>\n",
       "<table border=\"1\" class=\"dataframe\">\n",
       "  <thead>\n",
       "    <tr style=\"text-align: right;\">\n",
       "      <th></th>\n",
       "      <th>ID</th>\n",
       "      <th>Name</th>\n",
       "      <th>Age</th>\n",
       "      <th>Nationality</th>\n",
       "      <th>Overall</th>\n",
       "      <th>Potential</th>\n",
       "      <th>Club</th>\n",
       "      <th>Value</th>\n",
       "      <th>Wage</th>\n",
       "      <th>Preferred Foot</th>\n",
       "      <th>International Reputation</th>\n",
       "      <th>Skill Moves</th>\n",
       "      <th>Position</th>\n",
       "      <th>Joined</th>\n",
       "      <th>Contract Valid Until</th>\n",
       "      <th>Height</th>\n",
       "      <th>Weight</th>\n",
       "      <th>Release Clause</th>\n",
       "    </tr>\n",
       "  </thead>\n",
       "  <tbody>\n",
       "    <tr>\n",
       "      <th>14972</th>\n",
       "      <td>209024</td>\n",
       "      <td>A. Barry</td>\n",
       "      <td>25</td>\n",
       "      <td>Republic of Ireland</td>\n",
       "      <td>60</td>\n",
       "      <td>64</td>\n",
       "      <td>Cork City</td>\n",
       "      <td>230.0</td>\n",
       "      <td>1.0</td>\n",
       "      <td>Left</td>\n",
       "      <td>1.0</td>\n",
       "      <td>2.0</td>\n",
       "      <td>CB</td>\n",
       "      <td>2017</td>\n",
       "      <td>2019-01-01</td>\n",
       "      <td>5.916667</td>\n",
       "      <td>170.0</td>\n",
       "      <td>374.0</td>\n",
       "    </tr>\n",
       "    <tr>\n",
       "      <th>5574</th>\n",
       "      <td>235754</td>\n",
       "      <td>Borja Herrera</td>\n",
       "      <td>25</td>\n",
       "      <td>Spain</td>\n",
       "      <td>70</td>\n",
       "      <td>75</td>\n",
       "      <td>CF Reus Deportiu</td>\n",
       "      <td>2000.0</td>\n",
       "      <td>5.0</td>\n",
       "      <td>Left</td>\n",
       "      <td>1.0</td>\n",
       "      <td>3.0</td>\n",
       "      <td>LB</td>\n",
       "      <td>2018</td>\n",
       "      <td>2021-01-01</td>\n",
       "      <td>5.750000</td>\n",
       "      <td>154.0</td>\n",
       "      <td>3200.0</td>\n",
       "    </tr>\n",
       "    <tr>\n",
       "      <th>15804</th>\n",
       "      <td>229878</td>\n",
       "      <td>C. Lattanzio</td>\n",
       "      <td>20</td>\n",
       "      <td>Argentina</td>\n",
       "      <td>59</td>\n",
       "      <td>70</td>\n",
       "      <td>Estudiantes de La Plata</td>\n",
       "      <td>270.0</td>\n",
       "      <td>2.0</td>\n",
       "      <td>Left</td>\n",
       "      <td>1.0</td>\n",
       "      <td>2.0</td>\n",
       "      <td>LM</td>\n",
       "      <td>2017</td>\n",
       "      <td>2020-01-01</td>\n",
       "      <td>5.583333</td>\n",
       "      <td>141.0</td>\n",
       "      <td>459.0</td>\n",
       "    </tr>\n",
       "  </tbody>\n",
       "</table>\n",
       "</div>"
      ],
      "text/plain": [
       "           ID           Name  Age          Nationality  Overall  Potential  \\\n",
       "14972  209024       A. Barry   25  Republic of Ireland       60         64   \n",
       "5574   235754  Borja Herrera   25                Spain       70         75   \n",
       "15804  229878   C. Lattanzio   20            Argentina       59         70   \n",
       "\n",
       "                          Club   Value  Wage Preferred Foot  \\\n",
       "14972                Cork City   230.0   1.0           Left   \n",
       "5574          CF Reus Deportiu  2000.0   5.0           Left   \n",
       "15804  Estudiantes de La Plata   270.0   2.0           Left   \n",
       "\n",
       "       International Reputation  Skill Moves Position  Joined  \\\n",
       "14972                       1.0          2.0       CB    2017   \n",
       "5574                        1.0          3.0       LB    2018   \n",
       "15804                       1.0          2.0       LM    2017   \n",
       "\n",
       "      Contract Valid Until    Height  Weight  Release Clause  \n",
       "14972           2019-01-01  5.916667   170.0           374.0  \n",
       "5574            2021-01-01  5.750000   154.0          3200.0  \n",
       "15804           2020-01-01  5.583333   141.0           459.0  "
      ]
     },
     "execution_count": 7,
     "metadata": {},
     "output_type": "execute_result"
    }
   ],
   "source": [
    "df.sample(3)"
   ]
  },
  {
   "cell_type": "code",
   "execution_count": 8,
   "id": "7aa8fb35",
   "metadata": {
    "execution": {
     "iopub.execute_input": "2022-03-05T12:04:40.484933Z",
     "iopub.status.busy": "2022-03-05T12:04:40.484298Z",
     "iopub.status.idle": "2022-03-05T12:04:41.460494Z",
     "shell.execute_reply": "2022-03-05T12:04:41.459926Z",
     "shell.execute_reply.started": "2022-03-05T11:05:24.271386Z"
    },
    "papermill": {
     "duration": 1.03923,
     "end_time": "2022-03-05T12:04:41.460663",
     "exception": false,
     "start_time": "2022-03-05T12:04:40.421433",
     "status": "completed"
    },
    "tags": []
   },
   "outputs": [],
   "source": [
    "import matplotlib.pyplot as plt\n",
    "import matplotlib\n",
    "import seaborn as sns"
   ]
  },
  {
   "cell_type": "markdown",
   "id": "a01c51d5",
   "metadata": {
    "papermill": {
     "duration": 0.060231,
     "end_time": "2022-03-05T12:04:41.581400",
     "exception": false,
     "start_time": "2022-03-05T12:04:41.521169",
     "status": "completed"
    },
    "tags": []
   },
   "source": [
    "1. Top 5 countires with highest number of football players?\n",
    "2. Top 5 oldest players and top 10 youngest players?\n",
    "3. line plot on age \n",
    "4. which player plays for highest club\n",
    "5. clubs with highest number of player\n",
    "6. Clubs with lowest number of player\n",
    "7. clubs with youngest/oldest numbers of players\n",
    "8. players with highest/lowest wage\n",
    "9. Which club has highest/lowest average wage\n",
    "10. Which team has left Preferred Foot/right\n",
    "11. Which player has big / short height \n",
    "12. Which player has more weight \n",
    "13. Which player has high International Reputation\n",
    "14. Most famous Position\n",
    "15. Which player/club has most skill moves\n",
    "16. Which position has International Reputation\tSkill Moves more Position"
   ]
  },
  {
   "cell_type": "code",
   "execution_count": 9,
   "id": "6b070655",
   "metadata": {
    "execution": {
     "iopub.execute_input": "2022-03-05T12:04:41.709198Z",
     "iopub.status.busy": "2022-03-05T12:04:41.708545Z",
     "iopub.status.idle": "2022-03-05T12:04:41.718612Z",
     "shell.execute_reply": "2022-03-05T12:04:41.719143Z",
     "shell.execute_reply.started": "2022-03-05T11:05:24.295077Z"
    },
    "papermill": {
     "duration": 0.07731,
     "end_time": "2022-03-05T12:04:41.719308",
     "exception": false,
     "start_time": "2022-03-05T12:04:41.641998",
     "status": "completed"
    },
    "tags": []
   },
   "outputs": [
    {
     "data": {
      "text/plain": [
       "England      1655\n",
       "Germany      1195\n",
       "Spain        1071\n",
       "Argentina     935\n",
       "France        910\n",
       "Name: Nationality, dtype: int64"
      ]
     },
     "execution_count": 9,
     "metadata": {},
     "output_type": "execute_result"
    }
   ],
   "source": [
    "top_5_countries = df['Nationality'].value_counts().head()\n",
    "top_5_countries"
   ]
  },
  {
   "cell_type": "code",
   "execution_count": 10,
   "id": "911c1928",
   "metadata": {
    "execution": {
     "iopub.execute_input": "2022-03-05T12:04:41.842926Z",
     "iopub.status.busy": "2022-03-05T12:04:41.842318Z",
     "iopub.status.idle": "2022-03-05T12:04:42.103174Z",
     "shell.execute_reply": "2022-03-05T12:04:42.103660Z",
     "shell.execute_reply.started": "2022-03-05T11:05:24.365291Z"
    },
    "papermill": {
     "duration": 0.324485,
     "end_time": "2022-03-05T12:04:42.103845",
     "exception": false,
     "start_time": "2022-03-05T12:04:41.779360",
     "status": "completed"
    },
    "tags": []
   },
   "outputs": [
    {
     "data": {
      "text/plain": [
       "<AxesSubplot:>"
      ]
     },
     "execution_count": 10,
     "metadata": {},
     "output_type": "execute_result"
    },
    {
     "data": {
      "image/png": "[encoded data removed]",
      "text/plain": [
       "<Figure size 432x288 with 1 Axes>"
      ]
     },
     "metadata": {
      "needs_background": "light"
     },
     "output_type": "display_data"
    }
   ],
   "source": [
    "sns.barplot(x=top_5_countries.index, y= top_5_countries.to_list())\n",
    "sns.lineplot(x=top_5_countries.index, y= top_5_countries.to_list())"
   ]
  },
  {
   "cell_type": "code",
   "execution_count": 11,
   "id": "156fd08e",
   "metadata": {
    "execution": {
     "iopub.execute_input": "2022-03-05T12:04:42.231711Z",
     "iopub.status.busy": "2022-03-05T12:04:42.230712Z",
     "iopub.status.idle": "2022-03-05T12:04:42.255571Z",
     "shell.execute_reply": "2022-03-05T12:04:42.256064Z",
     "shell.execute_reply.started": "2022-03-05T11:05:24.641421Z"
    },
    "papermill": {
     "duration": 0.090532,
     "end_time": "2022-03-05T12:04:42.256237",
     "exception": false,
     "start_time": "2022-03-05T12:04:42.165705",
     "status": "completed"
    },
    "tags": []
   },
   "outputs": [
    {
     "data": {
      "text/html": [
       "<div>\n",
       "<style scoped>\n",
       "    .dataframe tbody tr th:only-of-type {\n",
       "        vertical-align: middle;\n",
       "    }\n",
       "\n",
       "    .dataframe tbody tr th {\n",
       "        vertical-align: top;\n",
       "    }\n",
       "\n",
       "    .dataframe thead th {\n",
       "        text-align: right;\n",
       "    }\n",
       "</style>\n",
       "<table border=\"1\" class=\"dataframe\">\n",
       "  <thead>\n",
       "    <tr style=\"text-align: right;\">\n",
       "      <th></th>\n",
       "      <th>ID</th>\n",
       "      <th>Name</th>\n",
       "      <th>Age</th>\n",
       "      <th>Nationality</th>\n",
       "      <th>Overall</th>\n",
       "      <th>Potential</th>\n",
       "      <th>Club</th>\n",
       "      <th>Value</th>\n",
       "      <th>Wage</th>\n",
       "      <th>Preferred Foot</th>\n",
       "      <th>International Reputation</th>\n",
       "      <th>Skill Moves</th>\n",
       "      <th>Position</th>\n",
       "      <th>Joined</th>\n",
       "      <th>Contract Valid Until</th>\n",
       "      <th>Height</th>\n",
       "      <th>Weight</th>\n",
       "      <th>Release Clause</th>\n",
       "    </tr>\n",
       "  </thead>\n",
       "  <tbody>\n",
       "    <tr>\n",
       "      <th>4741</th>\n",
       "      <td>140029</td>\n",
       "      <td>O. Pérez</td>\n",
       "      <td>45</td>\n",
       "      <td>Mexico</td>\n",
       "      <td>71</td>\n",
       "      <td>71</td>\n",
       "      <td>Pachuca</td>\n",
       "      <td>160.0</td>\n",
       "      <td>8.0</td>\n",
       "      <td>Right</td>\n",
       "      <td>2.0</td>\n",
       "      <td>1.0</td>\n",
       "      <td>GK</td>\n",
       "      <td>1991</td>\n",
       "      <td>2021-01-01</td>\n",
       "      <td>5.666667</td>\n",
       "      <td>165.0</td>\n",
       "      <td>272.0</td>\n",
       "    </tr>\n",
       "    <tr>\n",
       "      <th>10545</th>\n",
       "      <td>140183</td>\n",
       "      <td>S. Narazaki</td>\n",
       "      <td>42</td>\n",
       "      <td>Japan</td>\n",
       "      <td>65</td>\n",
       "      <td>65</td>\n",
       "      <td>Nagoya Grampus</td>\n",
       "      <td>40.0</td>\n",
       "      <td>1.0</td>\n",
       "      <td>Right</td>\n",
       "      <td>2.0</td>\n",
       "      <td>1.0</td>\n",
       "      <td>GK</td>\n",
       "      <td>1999</td>\n",
       "      <td>2021-01-01</td>\n",
       "      <td>6.166667</td>\n",
       "      <td>176.0</td>\n",
       "      <td>50.0</td>\n",
       "    </tr>\n",
       "    <tr>\n",
       "      <th>7225</th>\n",
       "      <td>142998</td>\n",
       "      <td>C. Muñoz</td>\n",
       "      <td>41</td>\n",
       "      <td>Argentina</td>\n",
       "      <td>68</td>\n",
       "      <td>68</td>\n",
       "      <td>CD Universidad de Concepción</td>\n",
       "      <td>60.0</td>\n",
       "      <td>1.0</td>\n",
       "      <td>Right</td>\n",
       "      <td>1.0</td>\n",
       "      <td>1.0</td>\n",
       "      <td>GK</td>\n",
       "      <td>2013</td>\n",
       "      <td>2018-01-01</td>\n",
       "      <td>5.833333</td>\n",
       "      <td>161.0</td>\n",
       "      <td>84.0</td>\n",
       "    </tr>\n",
       "    <tr>\n",
       "      <th>15426</th>\n",
       "      <td>18745</td>\n",
       "      <td>M. Tyler</td>\n",
       "      <td>41</td>\n",
       "      <td>England</td>\n",
       "      <td>59</td>\n",
       "      <td>59</td>\n",
       "      <td>Peterborough United</td>\n",
       "      <td>10.0</td>\n",
       "      <td>1.0</td>\n",
       "      <td>Right</td>\n",
       "      <td>1.0</td>\n",
       "      <td>1.0</td>\n",
       "      <td>GK</td>\n",
       "      <td>2016</td>\n",
       "      <td>2019-01-01</td>\n",
       "      <td>6.000000</td>\n",
       "      <td>183.0</td>\n",
       "      <td>18.0</td>\n",
       "    </tr>\n",
       "    <tr>\n",
       "      <th>4187</th>\n",
       "      <td>156483</td>\n",
       "      <td>C. Lucchetti</td>\n",
       "      <td>40</td>\n",
       "      <td>Argentina</td>\n",
       "      <td>71</td>\n",
       "      <td>71</td>\n",
       "      <td>Atlético Tucumán</td>\n",
       "      <td>160.0</td>\n",
       "      <td>4.0</td>\n",
       "      <td>Right</td>\n",
       "      <td>1.0</td>\n",
       "      <td>1.0</td>\n",
       "      <td>GK</td>\n",
       "      <td>2012</td>\n",
       "      <td>2019-01-01</td>\n",
       "      <td>6.000000</td>\n",
       "      <td>152.0</td>\n",
       "      <td>240.0</td>\n",
       "    </tr>\n",
       "  </tbody>\n",
       "</table>\n",
       "</div>"
      ],
      "text/plain": [
       "           ID          Name  Age Nationality  Overall  Potential  \\\n",
       "4741   140029      O. Pérez   45      Mexico       71         71   \n",
       "10545  140183   S. Narazaki   42       Japan       65         65   \n",
       "7225   142998      C. Muñoz   41   Argentina       68         68   \n",
       "15426   18745      M. Tyler   41     England       59         59   \n",
       "4187   156483  C. Lucchetti   40   Argentina       71         71   \n",
       "\n",
       "                               Club  Value  Wage Preferred Foot  \\\n",
       "4741                        Pachuca  160.0   8.0          Right   \n",
       "10545                Nagoya Grampus   40.0   1.0          Right   \n",
       "7225   CD Universidad de Concepción   60.0   1.0          Right   \n",
       "15426           Peterborough United   10.0   1.0          Right   \n",
       "4187               Atlético Tucumán  160.0   4.0          Right   \n",
       "\n",
       "       International Reputation  Skill Moves Position  Joined  \\\n",
       "4741                        2.0          1.0       GK    1991   \n",
       "10545                       2.0          1.0       GK    1999   \n",
       "7225                        1.0          1.0       GK    2013   \n",
       "15426                       1.0          1.0       GK    2016   \n",
       "4187                        1.0          1.0       GK    2012   \n",
       "\n",
       "      Contract Valid Until    Height  Weight  Release Clause  \n",
       "4741            2021-01-01  5.666667   165.0           272.0  \n",
       "10545           2021-01-01  6.166667   176.0            50.0  \n",
       "7225            2018-01-01  5.833333   161.0            84.0  \n",
       "15426           2019-01-01  6.000000   183.0            18.0  \n",
       "4187            2019-01-01  6.000000   152.0           240.0  "
      ]
     },
     "execution_count": 11,
     "metadata": {},
     "output_type": "execute_result"
    }
   ],
   "source": [
    "oldest_player = df['Age'].sort_values(ascending=False).head()\n",
    "# oldest_player\n",
    "df.loc[oldest_player.index]"
   ]
  },
  {
   "cell_type": "code",
   "execution_count": 12,
   "id": "b5a17a0d",
   "metadata": {
    "execution": {
     "iopub.execute_input": "2022-03-05T12:04:42.386447Z",
     "iopub.status.busy": "2022-03-05T12:04:42.385435Z",
     "iopub.status.idle": "2022-03-05T12:04:42.390992Z",
     "shell.execute_reply": "2022-03-05T12:04:42.390375Z",
     "shell.execute_reply.started": "2022-03-05T11:05:24.675877Z"
    },
    "papermill": {
     "duration": 0.071911,
     "end_time": "2022-03-05T12:04:42.391158",
     "exception": false,
     "start_time": "2022-03-05T12:04:42.319247",
     "status": "completed"
    },
    "tags": []
   },
   "outputs": [
    {
     "name": "stdout",
     "output_type": "stream",
     "text": [
      "O. perez is oldest player in fifa\n"
     ]
    }
   ],
   "source": [
    "print(\"O. perez is oldest player in fifa\")"
   ]
  },
  {
   "cell_type": "code",
   "execution_count": 13,
   "id": "021248bf",
   "metadata": {
    "execution": {
     "iopub.execute_input": "2022-03-05T12:04:42.522417Z",
     "iopub.status.busy": "2022-03-05T12:04:42.521708Z",
     "iopub.status.idle": "2022-03-05T12:04:42.544528Z",
     "shell.execute_reply": "2022-03-05T12:04:42.545019Z",
     "shell.execute_reply.started": "2022-03-05T11:05:24.684669Z"
    },
    "papermill": {
     "duration": 0.089701,
     "end_time": "2022-03-05T12:04:42.545196",
     "exception": false,
     "start_time": "2022-03-05T12:04:42.455495",
     "status": "completed"
    },
    "tags": []
   },
   "outputs": [
    {
     "data": {
      "text/html": [
       "<div>\n",
       "<style scoped>\n",
       "    .dataframe tbody tr th:only-of-type {\n",
       "        vertical-align: middle;\n",
       "    }\n",
       "\n",
       "    .dataframe tbody tr th {\n",
       "        vertical-align: top;\n",
       "    }\n",
       "\n",
       "    .dataframe thead th {\n",
       "        text-align: right;\n",
       "    }\n",
       "</style>\n",
       "<table border=\"1\" class=\"dataframe\">\n",
       "  <thead>\n",
       "    <tr style=\"text-align: right;\">\n",
       "      <th></th>\n",
       "      <th>ID</th>\n",
       "      <th>Name</th>\n",
       "      <th>Age</th>\n",
       "      <th>Nationality</th>\n",
       "      <th>Overall</th>\n",
       "      <th>Potential</th>\n",
       "      <th>Club</th>\n",
       "      <th>Value</th>\n",
       "      <th>Wage</th>\n",
       "      <th>Preferred Foot</th>\n",
       "      <th>International Reputation</th>\n",
       "      <th>Skill Moves</th>\n",
       "      <th>Position</th>\n",
       "      <th>Joined</th>\n",
       "      <th>Contract Valid Until</th>\n",
       "      <th>Height</th>\n",
       "      <th>Weight</th>\n",
       "      <th>Release Clause</th>\n",
       "    </tr>\n",
       "  </thead>\n",
       "  <tbody>\n",
       "    <tr>\n",
       "      <th>18206</th>\n",
       "      <td>246269</td>\n",
       "      <td>G. Nugent</td>\n",
       "      <td>16</td>\n",
       "      <td>England</td>\n",
       "      <td>46</td>\n",
       "      <td>66</td>\n",
       "      <td>Tranmere Rovers</td>\n",
       "      <td>60.0</td>\n",
       "      <td>1.0</td>\n",
       "      <td>Right</td>\n",
       "      <td>1.0</td>\n",
       "      <td>2.0</td>\n",
       "      <td>CM</td>\n",
       "      <td>2018</td>\n",
       "      <td>2019-01-01</td>\n",
       "      <td>5.833333</td>\n",
       "      <td>176.0</td>\n",
       "      <td>165.000000</td>\n",
       "    </tr>\n",
       "    <tr>\n",
       "      <th>18044</th>\n",
       "      <td>246109</td>\n",
       "      <td>K. Lara</td>\n",
       "      <td>16</td>\n",
       "      <td>Colombia</td>\n",
       "      <td>50</td>\n",
       "      <td>74</td>\n",
       "      <td>Atlético Huila</td>\n",
       "      <td>60.0</td>\n",
       "      <td>1.0</td>\n",
       "      <td>Right</td>\n",
       "      <td>1.0</td>\n",
       "      <td>2.0</td>\n",
       "      <td>RB</td>\n",
       "      <td>2018</td>\n",
       "      <td>2021-01-01</td>\n",
       "      <td>5.583333</td>\n",
       "      <td>143.0</td>\n",
       "      <td>141.000000</td>\n",
       "    </tr>\n",
       "    <tr>\n",
       "      <th>16254</th>\n",
       "      <td>244728</td>\n",
       "      <td>S. Steijn</td>\n",
       "      <td>16</td>\n",
       "      <td>Netherlands</td>\n",
       "      <td>58</td>\n",
       "      <td>72</td>\n",
       "      <td>VVV-Venlo</td>\n",
       "      <td>250.0</td>\n",
       "      <td>1.0</td>\n",
       "      <td>Right</td>\n",
       "      <td>1.0</td>\n",
       "      <td>3.0</td>\n",
       "      <td>CAM</td>\n",
       "      <td>2016</td>\n",
       "      <td>2019-06-30</td>\n",
       "      <td>5.666667</td>\n",
       "      <td>134.0</td>\n",
       "      <td>4585.060806</td>\n",
       "    </tr>\n",
       "    <tr>\n",
       "      <th>16418</th>\n",
       "      <td>242531</td>\n",
       "      <td>J. Kitolano</td>\n",
       "      <td>16</td>\n",
       "      <td>Norway</td>\n",
       "      <td>57</td>\n",
       "      <td>75</td>\n",
       "      <td>Odds BK</td>\n",
       "      <td>200.0</td>\n",
       "      <td>1.0</td>\n",
       "      <td>Right</td>\n",
       "      <td>1.0</td>\n",
       "      <td>2.0</td>\n",
       "      <td>LCM</td>\n",
       "      <td>2017</td>\n",
       "      <td>2021-01-01</td>\n",
       "      <td>5.583333</td>\n",
       "      <td>154.0</td>\n",
       "      <td>375.000000</td>\n",
       "    </tr>\n",
       "    <tr>\n",
       "      <th>17776</th>\n",
       "      <td>244553</td>\n",
       "      <td>M. Köstenbauer</td>\n",
       "      <td>16</td>\n",
       "      <td>Austria</td>\n",
       "      <td>52</td>\n",
       "      <td>74</td>\n",
       "      <td>FC Admira Wacker Mödling</td>\n",
       "      <td>90.0</td>\n",
       "      <td>1.0</td>\n",
       "      <td>Right</td>\n",
       "      <td>1.0</td>\n",
       "      <td>1.0</td>\n",
       "      <td>GK</td>\n",
       "      <td>2018</td>\n",
       "      <td>2021-01-01</td>\n",
       "      <td>6.083333</td>\n",
       "      <td>154.0</td>\n",
       "      <td>221.000000</td>\n",
       "    </tr>\n",
       "  </tbody>\n",
       "</table>\n",
       "</div>"
      ],
      "text/plain": [
       "           ID            Name  Age  Nationality  Overall  Potential  \\\n",
       "18206  246269       G. Nugent   16      England       46         66   \n",
       "18044  246109         K. Lara   16     Colombia       50         74   \n",
       "16254  244728       S. Steijn   16  Netherlands       58         72   \n",
       "16418  242531     J. Kitolano   16       Norway       57         75   \n",
       "17776  244553  M. Köstenbauer   16      Austria       52         74   \n",
       "\n",
       "                           Club  Value  Wage Preferred Foot  \\\n",
       "18206           Tranmere Rovers   60.0   1.0          Right   \n",
       "18044            Atlético Huila   60.0   1.0          Right   \n",
       "16254                 VVV-Venlo  250.0   1.0          Right   \n",
       "16418                   Odds BK  200.0   1.0          Right   \n",
       "17776  FC Admira Wacker Mödling   90.0   1.0          Right   \n",
       "\n",
       "       International Reputation  Skill Moves Position  Joined  \\\n",
       "18206                       1.0          2.0       CM    2018   \n",
       "18044                       1.0          2.0       RB    2018   \n",
       "16254                       1.0          3.0      CAM    2016   \n",
       "16418                       1.0          2.0      LCM    2017   \n",
       "17776                       1.0          1.0       GK    2018   \n",
       "\n",
       "      Contract Valid Until    Height  Weight  Release Clause  \n",
       "18206           2019-01-01  5.833333   176.0      165.000000  \n",
       "18044           2021-01-01  5.583333   143.0      141.000000  \n",
       "16254           2019-06-30  5.666667   134.0     4585.060806  \n",
       "16418           2021-01-01  5.583333   154.0      375.000000  \n",
       "17776           2021-01-01  6.083333   154.0      221.000000  "
      ]
     },
     "execution_count": 13,
     "metadata": {},
     "output_type": "execute_result"
    }
   ],
   "source": [
    "youngest_player = df['Age'].sort_values(ascending=True).head()\n",
    "# youngest_player\n",
    "df.loc[youngest_player.index]"
   ]
  },
  {
   "cell_type": "code",
   "execution_count": 14,
   "id": "c338b608",
   "metadata": {
    "execution": {
     "iopub.execute_input": "2022-03-05T12:04:42.677288Z",
     "iopub.status.busy": "2022-03-05T12:04:42.676670Z",
     "iopub.status.idle": "2022-03-05T12:04:42.686086Z",
     "shell.execute_reply": "2022-03-05T12:04:42.686614Z",
     "shell.execute_reply.started": "2022-03-05T11:05:24.722779Z"
    },
    "papermill": {
     "duration": 0.076526,
     "end_time": "2022-03-05T12:04:42.686802",
     "exception": false,
     "start_time": "2022-03-05T12:04:42.610276",
     "status": "completed"
    },
    "tags": []
   },
   "outputs": [
    {
     "data": {
      "text/plain": [
       "FC Barcelona               33\n",
       "Southampton                33\n",
       "Cardiff City               33\n",
       "TSG 1899 Hoffenheim        33\n",
       "Wolverhampton Wanderers    33\n",
       "RC Celta                   33\n",
       "Rayo Vallecano             33\n",
       "Fortuna Düsseldorf         33\n",
       "Valencia CF                33\n",
       "CD Leganés                 33\n",
       "Name: Club, dtype: int64"
      ]
     },
     "execution_count": 14,
     "metadata": {},
     "output_type": "execute_result"
    }
   ],
   "source": [
    "club = df['Club'].value_counts().head(10)\n",
    "club"
   ]
  },
  {
   "cell_type": "code",
   "execution_count": 15,
   "id": "648c6d61",
   "metadata": {
    "execution": {
     "iopub.execute_input": "2022-03-05T12:04:42.819366Z",
     "iopub.status.busy": "2022-03-05T12:04:42.818746Z",
     "iopub.status.idle": "2022-03-05T12:04:43.042736Z",
     "shell.execute_reply": "2022-03-05T12:04:43.043574Z",
     "shell.execute_reply.started": "2022-03-05T11:05:24.738068Z"
    },
    "papermill": {
     "duration": 0.292137,
     "end_time": "2022-03-05T12:04:43.043770",
     "exception": false,
     "start_time": "2022-03-05T12:04:42.751633",
     "status": "completed"
    },
    "tags": []
   },
   "outputs": [
    {
     "data": {
      "text/plain": [
       "<BarContainer object of 10 artists>"
      ]
     },
     "execution_count": 15,
     "metadata": {},
     "output_type": "execute_result"
    },
    {
     "data": {
      "image/png": "[encoded data removed]",
      "text/plain": [
       "<Figure size 432x288 with 1 Axes>"
      ]
     },
     "metadata": {
      "needs_background": "light"
     },
     "output_type": "display_data"
    }
   ],
   "source": [
    "plt.barh(club.index, club.values)"
   ]
  },
  {
   "cell_type": "code",
   "execution_count": 16,
   "id": "6012d684",
   "metadata": {
    "execution": {
     "iopub.execute_input": "2022-03-05T12:04:43.178278Z",
     "iopub.status.busy": "2022-03-05T12:04:43.177618Z",
     "iopub.status.idle": "2022-03-05T12:04:43.186737Z",
     "shell.execute_reply": "2022-03-05T12:04:43.187306Z",
     "shell.execute_reply.started": "2022-03-05T11:05:25.019137Z"
    },
    "papermill": {
     "duration": 0.077864,
     "end_time": "2022-03-05T12:04:43.187470",
     "exception": false,
     "start_time": "2022-03-05T12:04:43.109606",
     "status": "completed"
    },
    "tags": []
   },
   "outputs": [
    {
     "data": {
      "text/plain": [
       "Cruzeiro                20\n",
       "Grêmio                  20\n",
       "Sport Club do Recife    20\n",
       "Tromsø IL               20\n",
       "Fluminense              20\n",
       "Vitória                 20\n",
       "Bahia                   20\n",
       "Sligo Rovers            19\n",
       "Limerick FC             19\n",
       "Derry City              18\n",
       "Name: Club, dtype: int64"
      ]
     },
     "execution_count": 16,
     "metadata": {},
     "output_type": "execute_result"
    }
   ],
   "source": [
    "lclub = df['Club'].value_counts().tail(10)\n",
    "lclub"
   ]
  },
  {
   "cell_type": "code",
   "execution_count": 17,
   "id": "4030164d",
   "metadata": {
    "execution": {
     "iopub.execute_input": "2022-03-05T12:04:43.322593Z",
     "iopub.status.busy": "2022-03-05T12:04:43.322019Z",
     "iopub.status.idle": "2022-03-05T12:04:43.553309Z",
     "shell.execute_reply": "2022-03-05T12:04:43.553903Z",
     "shell.execute_reply.started": "2022-03-05T11:05:25.034961Z"
    },
    "papermill": {
     "duration": 0.300224,
     "end_time": "2022-03-05T12:04:43.554072",
     "exception": false,
     "start_time": "2022-03-05T12:04:43.253848",
     "status": "completed"
    },
    "tags": []
   },
   "outputs": [
    {
     "data": {
      "text/plain": [
       "<BarContainer object of 10 artists>"
      ]
     },
     "execution_count": 17,
     "metadata": {},
     "output_type": "execute_result"
    },
    {
     "data": {
      "image/png": "[encoded data removed]",
      "text/plain": [
       "<Figure size 432x288 with 1 Axes>"
      ]
     },
     "metadata": {
      "needs_background": "light"
     },
     "output_type": "display_data"
    }
   ],
   "source": [
    "plt.barh(lclub.index, lclub.values)"
   ]
  },
  {
   "cell_type": "code",
   "execution_count": 18,
   "id": "4d3be412",
   "metadata": {
    "execution": {
     "iopub.execute_input": "2022-03-05T12:04:43.692318Z",
     "iopub.status.busy": "2022-03-05T12:04:43.691733Z",
     "iopub.status.idle": "2022-03-05T12:04:43.700105Z",
     "shell.execute_reply": "2022-03-05T12:04:43.700681Z",
     "shell.execute_reply.started": "2022-03-05T11:05:25.318430Z"
    },
    "papermill": {
     "duration": 0.0788,
     "end_time": "2022-03-05T12:04:43.700855",
     "exception": false,
     "start_time": "2022-03-05T12:04:43.622055",
     "status": "completed"
    },
    "tags": []
   },
   "outputs": [
    {
     "data": {
      "text/plain": [
       "24"
      ]
     },
     "execution_count": 18,
     "metadata": {},
     "output_type": "execute_result"
    }
   ],
   "source": [
    "barc = df[df['Club']=='FC Barcelona']\n",
    "round(barc.Age.mean())"
   ]
  },
  {
   "cell_type": "code",
   "execution_count": 19,
   "id": "ae963d00",
   "metadata": {
    "execution": {
     "iopub.execute_input": "2022-03-05T12:04:43.839733Z",
     "iopub.status.busy": "2022-03-05T12:04:43.839122Z",
     "iopub.status.idle": "2022-03-05T12:04:43.853136Z",
     "shell.execute_reply": "2022-03-05T12:04:43.853762Z",
     "shell.execute_reply.started": "2022-03-05T11:05:25.331549Z"
    },
    "papermill": {
     "duration": 0.084938,
     "end_time": "2022-03-05T12:04:43.853925",
     "exception": false,
     "start_time": "2022-03-05T12:04:43.768987",
     "status": "completed"
    },
    "tags": []
   },
   "outputs": [
    {
     "data": {
      "text/html": [
       "<div>\n",
       "<style scoped>\n",
       "    .dataframe tbody tr th:only-of-type {\n",
       "        vertical-align: middle;\n",
       "    }\n",
       "\n",
       "    .dataframe tbody tr th {\n",
       "        vertical-align: top;\n",
       "    }\n",
       "\n",
       "    .dataframe thead th {\n",
       "        text-align: right;\n",
       "    }\n",
       "</style>\n",
       "<table border=\"1\" class=\"dataframe\">\n",
       "  <thead>\n",
       "    <tr style=\"text-align: right;\">\n",
       "      <th></th>\n",
       "      <th>Club</th>\n",
       "      <th>Age</th>\n",
       "    </tr>\n",
       "  </thead>\n",
       "  <tbody>\n",
       "    <tr>\n",
       "      <th>0</th>\n",
       "      <td>SSV Jahn Regensburg</td>\n",
       "      <td>25.655172</td>\n",
       "    </tr>\n",
       "    <tr>\n",
       "      <th>1</th>\n",
       "      <td>1. FC Heidenheim 1846</td>\n",
       "      <td>24.000000</td>\n",
       "    </tr>\n",
       "    <tr>\n",
       "      <th>2</th>\n",
       "      <td>1. FC Kaiserslautern</td>\n",
       "      <td>23.846154</td>\n",
       "    </tr>\n",
       "    <tr>\n",
       "      <th>3</th>\n",
       "      <td>1. FC Köln</td>\n",
       "      <td>24.321429</td>\n",
       "    </tr>\n",
       "    <tr>\n",
       "      <th>4</th>\n",
       "      <td>1. FC Magdeburg</td>\n",
       "      <td>24.692308</td>\n",
       "    </tr>\n",
       "    <tr>\n",
       "      <th>5</th>\n",
       "      <td>1. FC Nürnberg</td>\n",
       "      <td>23.793103</td>\n",
       "    </tr>\n",
       "    <tr>\n",
       "      <th>6</th>\n",
       "      <td>1. FC Union Berlin</td>\n",
       "      <td>25.250000</td>\n",
       "    </tr>\n",
       "    <tr>\n",
       "      <th>7</th>\n",
       "      <td>1. FSV Mainz 05</td>\n",
       "      <td>23.687500</td>\n",
       "    </tr>\n",
       "    <tr>\n",
       "      <th>8</th>\n",
       "      <td>AC Ajaccio</td>\n",
       "      <td>27.043478</td>\n",
       "    </tr>\n",
       "    <tr>\n",
       "      <th>9</th>\n",
       "      <td>AC Horsens</td>\n",
       "      <td>25.000000</td>\n",
       "    </tr>\n",
       "  </tbody>\n",
       "</table>\n",
       "</div>"
      ],
      "text/plain": [
       "                    Club        Age\n",
       "0    SSV Jahn Regensburg  25.655172\n",
       "1  1. FC Heidenheim 1846  24.000000\n",
       "2   1. FC Kaiserslautern  23.846154\n",
       "3             1. FC Köln  24.321429\n",
       "4        1. FC Magdeburg  24.692308\n",
       "5         1. FC Nürnberg  23.793103\n",
       "6     1. FC Union Berlin  25.250000\n",
       "7        1. FSV Mainz 05  23.687500\n",
       "8             AC Ajaccio  27.043478\n",
       "9             AC Horsens  25.000000"
      ]
     },
     "execution_count": 19,
     "metadata": {},
     "output_type": "execute_result"
    }
   ],
   "source": [
    "age = df.groupby('Club', as_index=False)['Age'].mean()\n",
    "age.head(10)"
   ]
  },
  {
   "cell_type": "code",
   "execution_count": 20,
   "id": "e50b6b8a",
   "metadata": {
    "execution": {
     "iopub.execute_input": "2022-03-05T12:04:43.997007Z",
     "iopub.status.busy": "2022-03-05T12:04:43.996319Z",
     "iopub.status.idle": "2022-03-05T12:04:44.004227Z",
     "shell.execute_reply": "2022-03-05T12:04:44.004709Z",
     "shell.execute_reply.started": "2022-03-05T11:05:25.351942Z"
    },
    "papermill": {
     "duration": 0.080822,
     "end_time": "2022-03-05T12:04:44.004883",
     "exception": false,
     "start_time": "2022-03-05T12:04:43.924061",
     "status": "completed"
    },
    "tags": []
   },
   "outputs": [
    {
     "data": {
      "text/plain": [
       "231    20.259259\n",
       "221    21.423077\n",
       "83     21.480000\n",
       "237    21.678571\n",
       "210    21.807692\n",
       "Name: Age, dtype: float64"
      ]
     },
     "execution_count": 20,
     "metadata": {},
     "output_type": "execute_result"
    }
   ],
   "source": [
    "youngest_club = age.Age.sort_values(ascending=True).head()\n",
    "youngest_club.head()\n"
   ]
  },
  {
   "cell_type": "code",
   "execution_count": 21,
   "id": "22065732",
   "metadata": {
    "execution": {
     "iopub.execute_input": "2022-03-05T12:04:44.167148Z",
     "iopub.status.busy": "2022-03-05T12:04:44.166314Z",
     "iopub.status.idle": "2022-03-05T12:04:44.169629Z",
     "shell.execute_reply": "2022-03-05T12:04:44.170168Z",
     "shell.execute_reply.started": "2022-03-05T11:05:25.365153Z"
    },
    "papermill": {
     "duration": 0.095883,
     "end_time": "2022-03-05T12:04:44.170344",
     "exception": false,
     "start_time": "2022-03-05T12:04:44.074461",
     "status": "completed"
    },
    "tags": []
   },
   "outputs": [
    {
     "data": {
      "text/html": [
       "<div>\n",
       "<style scoped>\n",
       "    .dataframe tbody tr th:only-of-type {\n",
       "        vertical-align: middle;\n",
       "    }\n",
       "\n",
       "    .dataframe tbody tr th {\n",
       "        vertical-align: top;\n",
       "    }\n",
       "\n",
       "    .dataframe thead th {\n",
       "        text-align: right;\n",
       "    }\n",
       "</style>\n",
       "<table border=\"1\" class=\"dataframe\">\n",
       "  <thead>\n",
       "    <tr style=\"text-align: right;\">\n",
       "      <th></th>\n",
       "      <th>ID</th>\n",
       "      <th>Name</th>\n",
       "      <th>Age</th>\n",
       "      <th>Nationality</th>\n",
       "      <th>Overall</th>\n",
       "      <th>Potential</th>\n",
       "      <th>Club</th>\n",
       "      <th>Value</th>\n",
       "      <th>Wage</th>\n",
       "      <th>Preferred Foot</th>\n",
       "      <th>International Reputation</th>\n",
       "      <th>Skill Moves</th>\n",
       "      <th>Position</th>\n",
       "      <th>Joined</th>\n",
       "      <th>Contract Valid Until</th>\n",
       "      <th>Height</th>\n",
       "      <th>Weight</th>\n",
       "      <th>Release Clause</th>\n",
       "    </tr>\n",
       "  </thead>\n",
       "  <tbody>\n",
       "    <tr>\n",
       "      <th>231</th>\n",
       "      <td>230225</td>\n",
       "      <td>Juiano Mestres</td>\n",
       "      <td>34</td>\n",
       "      <td>Brazil</td>\n",
       "      <td>82</td>\n",
       "      <td>82</td>\n",
       "      <td>Cruzeiro</td>\n",
       "      <td>6500.0</td>\n",
       "      <td>39.0</td>\n",
       "      <td>Right</td>\n",
       "      <td>1.0</td>\n",
       "      <td>2.0</td>\n",
       "      <td>RCB</td>\n",
       "      <td>2018</td>\n",
       "      <td>2021-01-01</td>\n",
       "      <td>5.916667</td>\n",
       "      <td>181.0</td>\n",
       "      <td>12400.0</td>\n",
       "    </tr>\n",
       "    <tr>\n",
       "      <th>221</th>\n",
       "      <td>156616</td>\n",
       "      <td>F. Ribéry</td>\n",
       "      <td>35</td>\n",
       "      <td>France</td>\n",
       "      <td>83</td>\n",
       "      <td>83</td>\n",
       "      <td>FC Bayern München</td>\n",
       "      <td>11500.0</td>\n",
       "      <td>72.0</td>\n",
       "      <td>Right</td>\n",
       "      <td>4.0</td>\n",
       "      <td>5.0</td>\n",
       "      <td>LM</td>\n",
       "      <td>2007</td>\n",
       "      <td>2019-01-01</td>\n",
       "      <td>5.583333</td>\n",
       "      <td>159.0</td>\n",
       "      <td>19000.0</td>\n",
       "    </tr>\n",
       "    <tr>\n",
       "      <th>83</th>\n",
       "      <td>208421</td>\n",
       "      <td>Saúl</td>\n",
       "      <td>23</td>\n",
       "      <td>Spain</td>\n",
       "      <td>85</td>\n",
       "      <td>90</td>\n",
       "      <td>Atlético Madrid</td>\n",
       "      <td>50500.0</td>\n",
       "      <td>77.0</td>\n",
       "      <td>Left</td>\n",
       "      <td>3.0</td>\n",
       "      <td>3.0</td>\n",
       "      <td>RCM</td>\n",
       "      <td>2013</td>\n",
       "      <td>2026-01-01</td>\n",
       "      <td>6.000000</td>\n",
       "      <td>170.0</td>\n",
       "      <td>107300.0</td>\n",
       "    </tr>\n",
       "    <tr>\n",
       "      <th>237</th>\n",
       "      <td>221087</td>\n",
       "      <td>Pau López</td>\n",
       "      <td>23</td>\n",
       "      <td>Spain</td>\n",
       "      <td>82</td>\n",
       "      <td>87</td>\n",
       "      <td>Real Betis</td>\n",
       "      <td>21500.0</td>\n",
       "      <td>21.0</td>\n",
       "      <td>Left</td>\n",
       "      <td>1.0</td>\n",
       "      <td>1.0</td>\n",
       "      <td>GK</td>\n",
       "      <td>2018</td>\n",
       "      <td>2023-01-01</td>\n",
       "      <td>6.166667</td>\n",
       "      <td>170.0</td>\n",
       "      <td>46800.0</td>\n",
       "    </tr>\n",
       "    <tr>\n",
       "      <th>210</th>\n",
       "      <td>179783</td>\n",
       "      <td>R. Fährmann</td>\n",
       "      <td>29</td>\n",
       "      <td>Germany</td>\n",
       "      <td>83</td>\n",
       "      <td>84</td>\n",
       "      <td>FC Schalke 04</td>\n",
       "      <td>20000.0</td>\n",
       "      <td>38.0</td>\n",
       "      <td>Right</td>\n",
       "      <td>2.0</td>\n",
       "      <td>1.0</td>\n",
       "      <td>GK</td>\n",
       "      <td>2011</td>\n",
       "      <td>2022-01-01</td>\n",
       "      <td>6.500000</td>\n",
       "      <td>216.0</td>\n",
       "      <td>35500.0</td>\n",
       "    </tr>\n",
       "  </tbody>\n",
       "</table>\n",
       "</div>"
      ],
      "text/plain": [
       "         ID            Name  Age Nationality  Overall  Potential  \\\n",
       "231  230225  Juiano Mestres   34      Brazil       82         82   \n",
       "221  156616       F. Ribéry   35      France       83         83   \n",
       "83   208421            Saúl   23       Spain       85         90   \n",
       "237  221087       Pau López   23       Spain       82         87   \n",
       "210  179783     R. Fährmann   29     Germany       83         84   \n",
       "\n",
       "                  Club    Value  Wage Preferred Foot  \\\n",
       "231           Cruzeiro   6500.0  39.0          Right   \n",
       "221  FC Bayern München  11500.0  72.0          Right   \n",
       "83     Atlético Madrid  50500.0  77.0           Left   \n",
       "237         Real Betis  21500.0  21.0           Left   \n",
       "210      FC Schalke 04  20000.0  38.0          Right   \n",
       "\n",
       "     International Reputation  Skill Moves Position  Joined  \\\n",
       "231                       1.0          2.0      RCB    2018   \n",
       "221                       4.0          5.0       LM    2007   \n",
       "83                        3.0          3.0      RCM    2013   \n",
       "237                       1.0          1.0       GK    2018   \n",
       "210                       2.0          1.0       GK    2011   \n",
       "\n",
       "    Contract Valid Until    Height  Weight  Release Clause  \n",
       "231           2021-01-01  5.916667   181.0         12400.0  \n",
       "221           2019-01-01  5.583333   159.0         19000.0  \n",
       "83            2026-01-01  6.000000   170.0        107300.0  \n",
       "237           2023-01-01  6.166667   170.0         46800.0  \n",
       "210           2022-01-01  6.500000   216.0         35500.0  "
      ]
     },
     "execution_count": 21,
     "metadata": {},
     "output_type": "execute_result"
    }
   ],
   "source": [
    "df.iloc[youngest_club.index]"
   ]
  },
  {
   "cell_type": "code",
   "execution_count": 22,
   "id": "62d6d8e4",
   "metadata": {
    "execution": {
     "iopub.execute_input": "2022-03-05T12:04:44.338417Z",
     "iopub.status.busy": "2022-03-05T12:04:44.328363Z",
     "iopub.status.idle": "2022-03-05T12:04:44.492351Z",
     "shell.execute_reply": "2022-03-05T12:04:44.491806Z",
     "shell.execute_reply.started": "2022-03-05T11:05:25.397678Z"
    },
    "papermill": {
     "duration": 0.25195,
     "end_time": "2022-03-05T12:04:44.492486",
     "exception": false,
     "start_time": "2022-03-05T12:04:44.240536",
     "status": "completed"
    },
    "tags": []
   },
   "outputs": [
    {
     "data": {
      "text/plain": [
       "<BarContainer object of 5 artists>"
      ]
     },
     "execution_count": 22,
     "metadata": {},
     "output_type": "execute_result"
    },
    {
     "data": {
      "image/png": "[encoded data removed]",
      "text/plain": [
       "<Figure size 432x288 with 1 Axes>"
      ]
     },
     "metadata": {
      "needs_background": "light"
     },
     "output_type": "display_data"
    }
   ],
   "source": [
    "plt.barh(df.iloc[youngest_club.index].Club,youngest_club.values )"
   ]
  },
  {
   "cell_type": "code",
   "execution_count": 23,
   "id": "5a5f7e3a",
   "metadata": {
    "execution": {
     "iopub.execute_input": "2022-03-05T12:04:44.641535Z",
     "iopub.status.busy": "2022-03-05T12:04:44.640446Z",
     "iopub.status.idle": "2022-03-05T12:04:44.647895Z",
     "shell.execute_reply": "2022-03-05T12:04:44.648340Z",
     "shell.execute_reply.started": "2022-03-05T11:05:25.626489Z"
    },
    "papermill": {
     "duration": 0.084308,
     "end_time": "2022-03-05T12:04:44.648511",
     "exception": false,
     "start_time": "2022-03-05T12:04:44.564203",
     "status": "completed"
    },
    "tags": []
   },
   "outputs": [
    {
     "data": {
      "text/plain": [
       "0     565.0\n",
       "7     455.0\n",
       "6     420.0\n",
       "1     405.0\n",
       "8     380.0\n",
       "36    355.0\n",
       "11    355.0\n",
       "4     355.0\n",
       "5     340.0\n",
       "32    340.0\n",
       "Name: Wage, dtype: float64"
      ]
     },
     "execution_count": 23,
     "metadata": {},
     "output_type": "execute_result"
    }
   ],
   "source": [
    "highest_wage = df.Wage.sort_values(ascending=False).head(10)\n",
    "highest_wage\n"
   ]
  },
  {
   "cell_type": "code",
   "execution_count": 24,
   "id": "d3c4da47",
   "metadata": {
    "execution": {
     "iopub.execute_input": "2022-03-05T12:04:44.817826Z",
     "iopub.status.busy": "2022-03-05T12:04:44.816512Z",
     "iopub.status.idle": "2022-03-05T12:04:45.019654Z",
     "shell.execute_reply": "2022-03-05T12:04:45.019119Z",
     "shell.execute_reply.started": "2022-03-05T11:05:25.651342Z"
    },
    "papermill": {
     "duration": 0.299045,
     "end_time": "2022-03-05T12:04:45.019820",
     "exception": false,
     "start_time": "2022-03-05T12:04:44.720775",
     "status": "completed"
    },
    "tags": []
   },
   "outputs": [
    {
     "data": {
      "text/plain": [
       "<BarContainer object of 10 artists>"
      ]
     },
     "execution_count": 24,
     "metadata": {},
     "output_type": "execute_result"
    },
    {
     "data": {
      "image/png": "[encoded data removed]",
      "text/plain": [
       "<Figure size 432x288 with 1 Axes>"
      ]
     },
     "metadata": {
      "needs_background": "light"
     },
     "output_type": "display_data"
    }
   ],
   "source": [
    "plt.barh(df.iloc[highest_wage.index].Name, highest_wage.values)"
   ]
  },
  {
   "cell_type": "code",
   "execution_count": 25,
   "id": "e8a2ca8b",
   "metadata": {
    "execution": {
     "iopub.execute_input": "2022-03-05T12:04:45.172928Z",
     "iopub.status.busy": "2022-03-05T12:04:45.171932Z",
     "iopub.status.idle": "2022-03-05T12:04:45.459496Z",
     "shell.execute_reply": "2022-03-05T12:04:45.459975Z",
     "shell.execute_reply.started": "2022-03-05T11:05:25.928220Z"
    },
    "papermill": {
     "duration": 0.367525,
     "end_time": "2022-03-05T12:04:45.460150",
     "exception": false,
     "start_time": "2022-03-05T12:04:45.092625",
     "status": "completed"
    },
    "tags": []
   },
   "outputs": [
    {
     "name": "stderr",
     "output_type": "stream",
     "text": [
      "/opt/conda/lib/python3.7/site-packages/seaborn/_decorators.py:43: FutureWarning: Pass the following variables as keyword args: x, y. From version 0.12, the only valid positional argument will be `data`, and passing other arguments without an explicit keyword will result in an error or misinterpretation.\n",
      "  FutureWarning\n"
     ]
    },
    {
     "data": {
      "text/plain": [
       "<AxesSubplot:ylabel='Name'>"
      ]
     },
     "execution_count": 25,
     "metadata": {},
     "output_type": "execute_result"
    },
    {
     "data": {
      "image/png": "[encoded data removed]",
      "text/plain": [
       "<Figure size 432x288 with 1 Axes>"
      ]
     },
     "metadata": {
      "needs_background": "light"
     },
     "output_type": "display_data"
    }
   ],
   "source": [
    "sns.lineplot(highest_wage.values,df.iloc[highest_wage.index].Name)"
   ]
  },
  {
   "cell_type": "code",
   "execution_count": 26,
   "id": "29c26844",
   "metadata": {
    "execution": {
     "iopub.execute_input": "2022-03-05T12:04:45.613532Z",
     "iopub.status.busy": "2022-03-05T12:04:45.612908Z",
     "iopub.status.idle": "2022-03-05T12:04:45.619355Z",
     "shell.execute_reply": "2022-03-05T12:04:45.619945Z",
     "shell.execute_reply.started": "2022-03-05T11:05:26.264325Z"
    },
    "papermill": {
     "duration": 0.085618,
     "end_time": "2022-03-05T12:04:45.620114",
     "exception": false,
     "start_time": "2022-03-05T12:04:45.534496",
     "status": "completed"
    },
    "tags": []
   },
   "outputs": [
    {
     "data": {
      "text/plain": [
       "9104     1.0\n",
       "13433    1.0\n",
       "13435    1.0\n",
       "13436    1.0\n",
       "13438    1.0\n",
       "13440    1.0\n",
       "13441    1.0\n",
       "13432    1.0\n",
       "13442    1.0\n",
       "13444    1.0\n",
       "Name: Wage, dtype: float64"
      ]
     },
     "execution_count": 26,
     "metadata": {},
     "output_type": "execute_result"
    }
   ],
   "source": [
    "lowest_wage = df.Wage.sort_values(ascending=True).head(10)\n",
    "lowest_wage"
   ]
  },
  {
   "cell_type": "code",
   "execution_count": 27,
   "id": "29bc28f6",
   "metadata": {
    "execution": {
     "iopub.execute_input": "2022-03-05T12:04:45.772018Z",
     "iopub.status.busy": "2022-03-05T12:04:45.771400Z",
     "iopub.status.idle": "2022-03-05T12:04:45.989805Z",
     "shell.execute_reply": "2022-03-05T12:04:45.990425Z",
     "shell.execute_reply.started": "2022-03-05T11:05:26.277807Z"
    },
    "papermill": {
     "duration": 0.296101,
     "end_time": "2022-03-05T12:04:45.990598",
     "exception": false,
     "start_time": "2022-03-05T12:04:45.694497",
     "status": "completed"
    },
    "tags": []
   },
   "outputs": [
    {
     "data": {
      "text/plain": [
       "<BarContainer object of 10 artists>"
      ]
     },
     "execution_count": 27,
     "metadata": {},
     "output_type": "execute_result"
    },
    {
     "data": {
      "image/png": "[encoded data removed]",
      "text/plain": [
       "<Figure size 432x288 with 1 Axes>"
      ]
     },
     "metadata": {
      "needs_background": "light"
     },
     "output_type": "display_data"
    }
   ],
   "source": [
    "plt.barh(df.loc[lowest_wage.index].Name, lowest_wage.values)"
   ]
  },
  {
   "cell_type": "code",
   "execution_count": 28,
   "id": "ecdda078",
   "metadata": {
    "execution": {
     "iopub.execute_input": "2022-03-05T12:04:46.145591Z",
     "iopub.status.busy": "2022-03-05T12:04:46.144987Z",
     "iopub.status.idle": "2022-03-05T12:04:46.342613Z",
     "shell.execute_reply": "2022-03-05T12:04:46.342108Z",
     "shell.execute_reply.started": "2022-03-05T11:05:26.547110Z"
    },
    "papermill": {
     "duration": 0.2762,
     "end_time": "2022-03-05T12:04:46.342780",
     "exception": false,
     "start_time": "2022-03-05T12:04:46.066580",
     "status": "completed"
    },
    "tags": []
   },
   "outputs": [
    {
     "name": "stderr",
     "output_type": "stream",
     "text": [
      "/opt/conda/lib/python3.7/site-packages/seaborn/_decorators.py:43: FutureWarning: Pass the following variable as a keyword arg: x. From version 0.12, the only valid positional argument will be `data`, and passing other arguments without an explicit keyword will result in an error or misinterpretation.\n",
      "  FutureWarning\n"
     ]
    },
    {
     "data": {
      "text/plain": [
       "<AxesSubplot:xlabel='Preferred Foot', ylabel='count'>"
      ]
     },
     "execution_count": 28,
     "metadata": {},
     "output_type": "execute_result"
    },
    {
     "data": {
      "image/png": "[encoded data removed]",
      "text/plain": [
       "<Figure size 432x288 with 1 Axes>"
      ]
     },
     "metadata": {
      "needs_background": "light"
     },
     "output_type": "display_data"
    }
   ],
   "source": [
    "sns.countplot(df['Preferred Foot'])"
   ]
  },
  {
   "cell_type": "code",
   "execution_count": 29,
   "id": "3c68d4df",
   "metadata": {
    "execution": {
     "iopub.execute_input": "2022-03-05T12:04:46.502835Z",
     "iopub.status.busy": "2022-03-05T12:04:46.502226Z",
     "iopub.status.idle": "2022-03-05T12:04:46.510015Z",
     "shell.execute_reply": "2022-03-05T12:04:46.510571Z",
     "shell.execute_reply.started": "2022-03-05T11:05:26.780098Z"
    },
    "papermill": {
     "duration": 0.089182,
     "end_time": "2022-03-05T12:04:46.510772",
     "exception": false,
     "start_time": "2022-03-05T12:04:46.421590",
     "status": "completed"
    },
    "tags": []
   },
   "outputs": [
    {
     "data": {
      "text/plain": [
       "11614    6.750000\n",
       "17927    6.750000\n",
       "4281     6.666667\n",
       "16923    6.666667\n",
       "17920    6.666667\n",
       "11403    6.666667\n",
       "4189     6.666667\n",
       "17694    6.666667\n",
       "Name: Height, dtype: float64"
      ]
     },
     "execution_count": 29,
     "metadata": {},
     "output_type": "execute_result"
    }
   ],
   "source": [
    "tallest_player = df['Height'].sort_values(ascending=False).head(8)\n",
    "tallest_player\n"
   ]
  },
  {
   "cell_type": "code",
   "execution_count": 30,
   "id": "baa3bfd0",
   "metadata": {
    "execution": {
     "iopub.execute_input": "2022-03-05T12:04:46.669534Z",
     "iopub.status.busy": "2022-03-05T12:04:46.668943Z",
     "iopub.status.idle": "2022-03-05T12:04:46.883406Z",
     "shell.execute_reply": "2022-03-05T12:04:46.882611Z",
     "shell.execute_reply.started": "2022-03-05T11:05:26.796190Z"
    },
    "papermill": {
     "duration": 0.295273,
     "end_time": "2022-03-05T12:04:46.883605",
     "exception": false,
     "start_time": "2022-03-05T12:04:46.588332",
     "status": "completed"
    },
    "tags": []
   },
   "outputs": [
    {
     "data": {
      "text/plain": [
       "<BarContainer object of 8 artists>"
      ]
     },
     "execution_count": 30,
     "metadata": {},
     "output_type": "execute_result"
    },
    {
     "data": {
      "image/png": "[encoded data removed]",
      "text/plain": [
       "<Figure size 432x288 with 1 Axes>"
      ]
     },
     "metadata": {
      "needs_background": "light"
     },
     "output_type": "display_data"
    }
   ],
   "source": [
    "plt.barh(df.loc[tallest_player.index].Name, tallest_player.values)"
   ]
  },
  {
   "cell_type": "code",
   "execution_count": 31,
   "id": "6e85eaab",
   "metadata": {
    "execution": {
     "iopub.execute_input": "2022-03-05T12:04:47.047380Z",
     "iopub.status.busy": "2022-03-05T12:04:47.046758Z",
     "iopub.status.idle": "2022-03-05T12:04:47.054229Z",
     "shell.execute_reply": "2022-03-05T12:04:47.054900Z",
     "shell.execute_reply.started": "2022-03-05T11:05:27.005817Z"
    },
    "papermill": {
     "duration": 0.091788,
     "end_time": "2022-03-05T12:04:47.055113",
     "exception": false,
     "start_time": "2022-03-05T12:04:46.963325",
     "status": "completed"
    },
    "tags": []
   },
   "outputs": [
    {
     "data": {
      "text/plain": [
       "6584     5.083333\n",
       "6275     5.083333\n",
       "17157    5.083333\n",
       "2768     5.166667\n",
       "2493     5.166667\n",
       "5828     5.166667\n",
       "8536     5.166667\n",
       "1340     5.166667\n",
       "Name: Height, dtype: float64"
      ]
     },
     "execution_count": 31,
     "metadata": {},
     "output_type": "execute_result"
    }
   ],
   "source": [
    "shortest_player = df['Height'].sort_values(ascending=True).head(8)\n",
    "shortest_player"
   ]
  },
  {
   "cell_type": "code",
   "execution_count": 32,
   "id": "5d3aad35",
   "metadata": {
    "execution": {
     "iopub.execute_input": "2022-03-05T12:04:47.217745Z",
     "iopub.status.busy": "2022-03-05T12:04:47.217088Z",
     "iopub.status.idle": "2022-03-05T12:04:47.398456Z",
     "shell.execute_reply": "2022-03-05T12:04:47.397924Z",
     "shell.execute_reply.started": "2022-03-05T11:05:27.018237Z"
    },
    "papermill": {
     "duration": 0.263781,
     "end_time": "2022-03-05T12:04:47.398602",
     "exception": false,
     "start_time": "2022-03-05T12:04:47.134821",
     "status": "completed"
    },
    "tags": []
   },
   "outputs": [
    {
     "data": {
      "text/plain": [
       "<BarContainer object of 8 artists>"
      ]
     },
     "execution_count": 32,
     "metadata": {},
     "output_type": "execute_result"
    },
    {
     "data": {
      "image/png": "[encoded data removed]",
      "text/plain": [
       "<Figure size 432x288 with 1 Axes>"
      ]
     },
     "metadata": {
      "needs_background": "light"
     },
     "output_type": "display_data"
    }
   ],
   "source": [
    "plt.barh(df.loc[shortest_player.index].Name, shortest_player.values)"
   ]
  },
  {
   "cell_type": "code",
   "execution_count": 33,
   "id": "002c9f9b",
   "metadata": {
    "execution": {
     "iopub.execute_input": "2022-03-05T12:04:47.565148Z",
     "iopub.status.busy": "2022-03-05T12:04:47.564510Z",
     "iopub.status.idle": "2022-03-05T12:04:47.571222Z",
     "shell.execute_reply": "2022-03-05T12:04:47.571816Z",
     "shell.execute_reply.started": "2022-03-05T11:05:27.213838Z"
    },
    "papermill": {
     "duration": 0.091285,
     "end_time": "2022-03-05T12:04:47.572020",
     "exception": false,
     "start_time": "2022-03-05T12:04:47.480735",
     "status": "completed"
    },
    "tags": []
   },
   "outputs": [
    {
     "data": {
      "text/plain": [
       "6584     5.083333\n",
       "6275     5.083333\n",
       "17157    5.083333\n",
       "2768     5.166667\n",
       "2493     5.166667\n",
       "Name: Height, dtype: float64"
      ]
     },
     "execution_count": 33,
     "metadata": {},
     "output_type": "execute_result"
    }
   ],
   "source": [
    "# comparison of top 8 shortest and longest player\n",
    "df1 = pd.concat([shortest_player, tallest_player])\n",
    "df1.head()"
   ]
  },
  {
   "cell_type": "code",
   "execution_count": 34,
   "id": "b26c434f",
   "metadata": {
    "execution": {
     "iopub.execute_input": "2022-03-05T12:04:47.738962Z",
     "iopub.status.busy": "2022-03-05T12:04:47.738362Z",
     "iopub.status.idle": "2022-03-05T12:04:47.966428Z",
     "shell.execute_reply": "2022-03-05T12:04:47.965802Z",
     "shell.execute_reply.started": "2022-03-05T11:05:27.226950Z"
    },
    "papermill": {
     "duration": 0.312166,
     "end_time": "2022-03-05T12:04:47.966564",
     "exception": false,
     "start_time": "2022-03-05T12:04:47.654398",
     "status": "completed"
    },
    "tags": []
   },
   "outputs": [
    {
     "data": {
      "text/plain": [
       "<BarContainer object of 16 artists>"
      ]
     },
     "execution_count": 34,
     "metadata": {},
     "output_type": "execute_result"
    },
    {
     "data": {
      "image/png": "[encoded data removed]",
      "text/plain": [
       "<Figure size 432x288 with 1 Axes>"
      ]
     },
     "metadata": {
      "needs_background": "light"
     },
     "output_type": "display_data"
    }
   ],
   "source": [
    "plt.barh(df.loc[df1.index].Name, df1.values )"
   ]
  },
  {
   "cell_type": "code",
   "execution_count": 35,
   "id": "3014da0b",
   "metadata": {
    "execution": {
     "iopub.execute_input": "2022-03-05T12:04:48.139047Z",
     "iopub.status.busy": "2022-03-05T12:04:48.138403Z",
     "iopub.status.idle": "2022-03-05T12:04:48.151452Z",
     "shell.execute_reply": "2022-03-05T12:04:48.152025Z",
     "shell.execute_reply.started": "2022-03-05T11:05:27.507230Z"
    },
    "papermill": {
     "duration": 0.102993,
     "end_time": "2022-03-05T12:04:48.152205",
     "exception": false,
     "start_time": "2022-03-05T12:04:48.049212",
     "status": "completed"
    },
    "tags": []
   },
   "outputs": [
    {
     "data": {
      "text/html": [
       "<div>\n",
       "<style scoped>\n",
       "    .dataframe tbody tr th:only-of-type {\n",
       "        vertical-align: middle;\n",
       "    }\n",
       "\n",
       "    .dataframe tbody tr th {\n",
       "        vertical-align: top;\n",
       "    }\n",
       "\n",
       "    .dataframe thead th {\n",
       "        text-align: right;\n",
       "    }\n",
       "</style>\n",
       "<table border=\"1\" class=\"dataframe\">\n",
       "  <thead>\n",
       "    <tr style=\"text-align: right;\">\n",
       "      <th></th>\n",
       "      <th>Club</th>\n",
       "      <th>Wage</th>\n",
       "    </tr>\n",
       "  </thead>\n",
       "  <tbody>\n",
       "    <tr>\n",
       "      <th>0</th>\n",
       "      <td>SSV Jahn Regensburg</td>\n",
       "      <td>4.241379</td>\n",
       "    </tr>\n",
       "    <tr>\n",
       "      <th>1</th>\n",
       "      <td>1. FC Heidenheim 1846</td>\n",
       "      <td>4.464286</td>\n",
       "    </tr>\n",
       "    <tr>\n",
       "      <th>2</th>\n",
       "      <td>1. FC Kaiserslautern</td>\n",
       "      <td>1.692308</td>\n",
       "    </tr>\n",
       "    <tr>\n",
       "      <th>3</th>\n",
       "      <td>1. FC Köln</td>\n",
       "      <td>13.285714</td>\n",
       "    </tr>\n",
       "    <tr>\n",
       "      <th>4</th>\n",
       "      <td>1. FC Magdeburg</td>\n",
       "      <td>4.884615</td>\n",
       "    </tr>\n",
       "    <tr>\n",
       "      <th>...</th>\n",
       "      <td>...</td>\n",
       "      <td>...</td>\n",
       "    </tr>\n",
       "    <tr>\n",
       "      <th>646</th>\n",
       "      <td>Zagłębie Sosnowiec</td>\n",
       "      <td>1.080000</td>\n",
       "    </tr>\n",
       "    <tr>\n",
       "      <th>647</th>\n",
       "      <td>Çaykur Rizespor</td>\n",
       "      <td>6.433333</td>\n",
       "    </tr>\n",
       "    <tr>\n",
       "      <th>648</th>\n",
       "      <td>Örebro SK</td>\n",
       "      <td>1.481481</td>\n",
       "    </tr>\n",
       "    <tr>\n",
       "      <th>649</th>\n",
       "      <td>Östersunds FK</td>\n",
       "      <td>2.045455</td>\n",
       "    </tr>\n",
       "    <tr>\n",
       "      <th>650</th>\n",
       "      <td>Śląsk Wrocław</td>\n",
       "      <td>2.083333</td>\n",
       "    </tr>\n",
       "  </tbody>\n",
       "</table>\n",
       "<p>651 rows × 2 columns</p>\n",
       "</div>"
      ],
      "text/plain": [
       "                      Club       Wage\n",
       "0      SSV Jahn Regensburg   4.241379\n",
       "1    1. FC Heidenheim 1846   4.464286\n",
       "2     1. FC Kaiserslautern   1.692308\n",
       "3               1. FC Köln  13.285714\n",
       "4          1. FC Magdeburg   4.884615\n",
       "..                     ...        ...\n",
       "646     Zagłębie Sosnowiec   1.080000\n",
       "647        Çaykur Rizespor   6.433333\n",
       "648              Örebro SK   1.481481\n",
       "649          Östersunds FK   2.045455\n",
       "650          Śląsk Wrocław   2.083333\n",
       "\n",
       "[651 rows x 2 columns]"
      ]
     },
     "execution_count": 35,
     "metadata": {},
     "output_type": "execute_result"
    }
   ],
   "source": [
    "wage = df.groupby('Club', as_index=False)['Wage'].mean()\n",
    "wage"
   ]
  },
  {
   "cell_type": "code",
   "execution_count": 36,
   "id": "c89532ea",
   "metadata": {
    "execution": {
     "iopub.execute_input": "2022-03-05T12:04:48.323940Z",
     "iopub.status.busy": "2022-03-05T12:04:48.323286Z",
     "iopub.status.idle": "2022-03-05T12:04:48.335244Z",
     "shell.execute_reply": "2022-03-05T12:04:48.335824Z",
     "shell.execute_reply.started": "2022-03-05T11:05:27.527983Z"
    },
    "papermill": {
     "duration": 0.09944,
     "end_time": "2022-03-05T12:04:48.335989",
     "exception": false,
     "start_time": "2022-03-05T12:04:48.236549",
     "status": "completed"
    },
    "tags": []
   },
   "outputs": [
    {
     "data": {
      "text/plain": [
       "Deportivo de La Coruña        15\n",
       "FC Barcelona                  12\n",
       "Sheffield Wednesday           12\n",
       "Manchester City               12\n",
       "UD Almería                    12\n",
       "                              ..\n",
       "Gamba Osaka                    2\n",
       "Beijing Sinobo Guoan FC        2\n",
       "Guizhou Hengfeng FC            2\n",
       "GFC Ajaccio                    2\n",
       "Shandong Luneng TaiShan FC     1\n",
       "Name: Club, Length: 651, dtype: int64"
      ]
     },
     "execution_count": 36,
     "metadata": {},
     "output_type": "execute_result"
    }
   ],
   "source": [
    "df4= df[df['Preferred Foot']==\"Left\"]\n",
    "df4.Club.value_counts()"
   ]
  },
  {
   "cell_type": "code",
   "execution_count": 37,
   "id": "8eae6da1",
   "metadata": {
    "execution": {
     "iopub.execute_input": "2022-03-05T12:04:48.508690Z",
     "iopub.status.busy": "2022-03-05T12:04:48.508076Z",
     "iopub.status.idle": "2022-03-05T12:04:48.515258Z",
     "shell.execute_reply": "2022-03-05T12:04:48.515850Z",
     "shell.execute_reply.started": "2022-03-05T11:05:27.545797Z"
    },
    "papermill": {
     "duration": 0.095624,
     "end_time": "2022-03-05T12:04:48.516008",
     "exception": false,
     "start_time": "2022-03-05T12:04:48.420384",
     "status": "completed"
    },
    "tags": []
   },
   "outputs": [
    {
     "data": {
      "text/plain": [
       "Deportivo de La Coruña    15\n",
       "FC Barcelona              12\n",
       "Sheffield Wednesday       12\n",
       "Manchester City           12\n",
       "UD Almería                12\n",
       "Deportivo Toluca          12\n",
       "Charlton Athletic         12\n",
       "RCD Mallorca              12\n",
       "Name: Club, dtype: int64"
      ]
     },
     "execution_count": 37,
     "metadata": {},
     "output_type": "execute_result"
    }
   ],
   "source": [
    "df5 =  df4.Club.value_counts().head(8)\n",
    "df5"
   ]
  },
  {
   "cell_type": "code",
   "execution_count": 38,
   "id": "ac8c4a02",
   "metadata": {
    "execution": {
     "iopub.execute_input": "2022-03-05T12:04:48.825262Z",
     "iopub.status.busy": "2022-03-05T12:04:48.824249Z",
     "iopub.status.idle": "2022-03-05T12:04:48.983715Z",
     "shell.execute_reply": "2022-03-05T12:04:48.983194Z",
     "shell.execute_reply.started": "2022-03-05T11:05:27.558052Z"
    },
    "papermill": {
     "duration": 0.38351,
     "end_time": "2022-03-05T12:04:48.983873",
     "exception": false,
     "start_time": "2022-03-05T12:04:48.600363",
     "status": "completed"
    },
    "tags": []
   },
   "outputs": [
    {
     "data": {
      "text/plain": [
       "<BarContainer object of 8 artists>"
      ]
     },
     "execution_count": 38,
     "metadata": {},
     "output_type": "execute_result"
    },
    {
     "data": {
      "image/png": "[encoded data removed]",
      "text/plain": [
       "<Figure size 432x288 with 1 Axes>"
      ]
     },
     "metadata": {
      "needs_background": "light"
     },
     "output_type": "display_data"
    }
   ],
   "source": [
    "plt.barh(df5.index, df5.values)"
   ]
  },
  {
   "cell_type": "code",
   "execution_count": 39,
   "id": "4189c1e8",
   "metadata": {
    "execution": {
     "iopub.execute_input": "2022-03-05T12:04:49.161844Z",
     "iopub.status.busy": "2022-03-05T12:04:49.161201Z",
     "iopub.status.idle": "2022-03-05T12:04:49.343477Z",
     "shell.execute_reply": "2022-03-05T12:04:49.343992Z",
     "shell.execute_reply.started": "2022-03-05T11:05:27.776990Z"
    },
    "papermill": {
     "duration": 0.27435,
     "end_time": "2022-03-05T12:04:49.344167",
     "exception": false,
     "start_time": "2022-03-05T12:04:49.069817",
     "status": "completed"
    },
    "tags": []
   },
   "outputs": [
    {
     "data": {
      "text/plain": [
       "<BarContainer object of 8 artists>"
      ]
     },
     "execution_count": 39,
     "metadata": {},
     "output_type": "execute_result"
    },
    {
     "data": {
      "image/png": "[encoded data removed]",
      "text/plain": [
       "<Figure size 432x288 with 1 Axes>"
      ]
     },
     "metadata": {
      "needs_background": "light"
     },
     "output_type": "display_data"
    }
   ],
   "source": [
    "df6 = df4.Club.value_counts().tail(8)\n",
    "plt.barh(df6.index, df6.values)"
   ]
  },
  {
   "cell_type": "code",
   "execution_count": 40,
   "id": "da838f19",
   "metadata": {
    "execution": {
     "iopub.execute_input": "2022-03-05T12:04:49.528609Z",
     "iopub.status.busy": "2022-03-05T12:04:49.523443Z",
     "iopub.status.idle": "2022-03-05T12:04:49.538619Z",
     "shell.execute_reply": "2022-03-05T12:04:49.539132Z",
     "shell.execute_reply.started": "2022-03-05T11:05:28.005408Z"
    },
    "papermill": {
     "duration": 0.107418,
     "end_time": "2022-03-05T12:04:49.539313",
     "exception": false,
     "start_time": "2022-03-05T12:04:49.431895",
     "status": "completed"
    },
    "tags": []
   },
   "outputs": [
    {
     "data": {
      "text/plain": [
       "Chelsea                29\n",
       "Gamba Osaka            28\n",
       "TSG 1899 Hoffenheim    28\n",
       "Southampton            28\n",
       "V-Varen Nagasaki       28\n",
       "                       ..\n",
       "Internacional          12\n",
       "Atlético Mineiro       12\n",
       "Atlético Paranaense    12\n",
       "Derry City             11\n",
       "Vitória                10\n",
       "Name: Club, Length: 651, dtype: int64"
      ]
     },
     "execution_count": 40,
     "metadata": {},
     "output_type": "execute_result"
    }
   ],
   "source": [
    "right_foot = df[df['Preferred Foot']==\"Right\"]\n",
    "right_foot.Club.value_counts()"
   ]
  },
  {
   "cell_type": "code",
   "execution_count": 41,
   "id": "529bf437",
   "metadata": {
    "execution": {
     "iopub.execute_input": "2022-03-05T12:04:49.717752Z",
     "iopub.status.busy": "2022-03-05T12:04:49.717069Z",
     "iopub.status.idle": "2022-03-05T12:04:49.726488Z",
     "shell.execute_reply": "2022-03-05T12:04:49.725981Z",
     "shell.execute_reply.started": "2022-03-05T11:05:28.029110Z"
    },
    "papermill": {
     "duration": 0.099923,
     "end_time": "2022-03-05T12:04:49.726647",
     "exception": false,
     "start_time": "2022-03-05T12:04:49.626724",
     "status": "completed"
    },
    "tags": []
   },
   "outputs": [
    {
     "data": {
      "text/plain": [
       "Chelsea                29\n",
       "Gamba Osaka            28\n",
       "TSG 1899 Hoffenheim    28\n",
       "Southampton            28\n",
       "V-Varen Nagasaki       28\n",
       "Liverpool              27\n",
       "Montreal Impact        27\n",
       "Fenerbahçe SK          27\n",
       "Name: Club, dtype: int64"
      ]
     },
     "execution_count": 41,
     "metadata": {},
     "output_type": "execute_result"
    }
   ],
   "source": [
    "right_foot_most = right_foot.Club.value_counts().head(8)\n",
    "right_foot_most"
   ]
  },
  {
   "cell_type": "code",
   "execution_count": 42,
   "id": "49bf6836",
   "metadata": {
    "execution": {
     "iopub.execute_input": "2022-03-05T12:04:49.924822Z",
     "iopub.status.busy": "2022-03-05T12:04:49.909414Z",
     "iopub.status.idle": "2022-03-05T12:04:50.075240Z",
     "shell.execute_reply": "2022-03-05T12:04:50.074671Z",
     "shell.execute_reply.started": "2022-03-05T11:05:28.042806Z"
    },
    "papermill": {
     "duration": 0.26088,
     "end_time": "2022-03-05T12:04:50.075388",
     "exception": false,
     "start_time": "2022-03-05T12:04:49.814508",
     "status": "completed"
    },
    "tags": []
   },
   "outputs": [
    {
     "data": {
      "text/plain": [
       "<BarContainer object of 8 artists>"
      ]
     },
     "execution_count": 42,
     "metadata": {},
     "output_type": "execute_result"
    },
    {
     "data": {
      "image/png": "[encoded data removed]",
      "text/plain": [
       "<Figure size 432x288 with 1 Axes>"
      ]
     },
     "metadata": {
      "needs_background": "light"
     },
     "output_type": "display_data"
    }
   ],
   "source": [
    "plt.barh(right_foot_most.index, right_foot_most.values)"
   ]
  },
  {
   "cell_type": "code",
   "execution_count": 43,
   "id": "5d718819",
   "metadata": {
    "execution": {
     "iopub.execute_input": "2022-03-05T12:04:50.260933Z",
     "iopub.status.busy": "2022-03-05T12:04:50.259262Z",
     "iopub.status.idle": "2022-03-05T12:04:50.269531Z",
     "shell.execute_reply": "2022-03-05T12:04:50.268964Z",
     "shell.execute_reply.started": "2022-03-05T11:05:28.246336Z"
    },
    "papermill": {
     "duration": 0.103855,
     "end_time": "2022-03-05T12:04:50.269691",
     "exception": false,
     "start_time": "2022-03-05T12:04:50.165836",
     "status": "completed"
    },
    "tags": []
   },
   "outputs": [
    {
     "data": {
      "text/plain": [
       "Botafogo               13\n",
       "Tromsø IL              13\n",
       "Bahia                  13\n",
       "Internacional          12\n",
       "Atlético Mineiro       12\n",
       "Atlético Paranaense    12\n",
       "Derry City             11\n",
       "Vitória                10\n",
       "Name: Club, dtype: int64"
      ]
     },
     "execution_count": 43,
     "metadata": {},
     "output_type": "execute_result"
    }
   ],
   "source": [
    "right_foot_least = right_foot.Club.value_counts().tail(8)\n",
    "right_foot_least"
   ]
  },
  {
   "cell_type": "code",
   "execution_count": 44,
   "id": "08c59ae7",
   "metadata": {
    "execution": {
     "iopub.execute_input": "2022-03-05T12:04:50.482430Z",
     "iopub.status.busy": "2022-03-05T12:04:50.481812Z",
     "iopub.status.idle": "2022-03-05T12:04:50.636024Z",
     "shell.execute_reply": "2022-03-05T12:04:50.635465Z",
     "shell.execute_reply.started": "2022-03-05T11:05:28.259722Z"
    },
    "papermill": {
     "duration": 0.266375,
     "end_time": "2022-03-05T12:04:50.636181",
     "exception": false,
     "start_time": "2022-03-05T12:04:50.369806",
     "status": "completed"
    },
    "tags": []
   },
   "outputs": [
    {
     "data": {
      "text/plain": [
       "<BarContainer object of 8 artists>"
      ]
     },
     "execution_count": 44,
     "metadata": {},
     "output_type": "execute_result"
    },
    {
     "data": {
      "image/png": "[encoded data removed]",
      "text/plain": [
       "<Figure size 432x288 with 1 Axes>"
      ]
     },
     "metadata": {
      "needs_background": "light"
     },
     "output_type": "display_data"
    }
   ],
   "source": [
    "plt.barh(right_foot_least.index, right_foot_least.values)"
   ]
  },
  {
   "cell_type": "code",
   "execution_count": 45,
   "id": "288602c9",
   "metadata": {
    "execution": {
     "iopub.execute_input": "2022-03-05T12:04:50.821958Z",
     "iopub.status.busy": "2022-03-05T12:04:50.820930Z",
     "iopub.status.idle": "2022-03-05T12:04:50.830050Z",
     "shell.execute_reply": "2022-03-05T12:04:50.830536Z",
     "shell.execute_reply.started": "2022-03-05T11:05:28.462576Z"
    },
    "papermill": {
     "duration": 0.104323,
     "end_time": "2022-03-05T12:04:50.830754",
     "exception": false,
     "start_time": "2022-03-05T12:04:50.726431",
     "status": "completed"
    },
    "tags": []
   },
   "outputs": [
    {
     "data": {
      "text/plain": [
       "1.0    16298\n",
       "2.0     1245\n",
       "3.0      307\n",
       "4.0       51\n",
       "5.0        6\n",
       "Name: International Reputation, dtype: int64"
      ]
     },
     "execution_count": 45,
     "metadata": {},
     "output_type": "execute_result"
    }
   ],
   "source": [
    "International_Reputation = df['International Reputation'].value_counts()\n",
    "International_Reputation"
   ]
  },
  {
   "cell_type": "code",
   "execution_count": 46,
   "id": "a620d913",
   "metadata": {
    "execution": {
     "iopub.execute_input": "2022-03-05T12:04:51.019399Z",
     "iopub.status.busy": "2022-03-05T12:04:51.018411Z",
     "iopub.status.idle": "2022-03-05T12:04:51.178448Z",
     "shell.execute_reply": "2022-03-05T12:04:51.178984Z",
     "shell.execute_reply.started": "2022-03-05T11:05:28.478478Z"
    },
    "papermill": {
     "duration": 0.254727,
     "end_time": "2022-03-05T12:04:51.179158",
     "exception": false,
     "start_time": "2022-03-05T12:04:50.924431",
     "status": "completed"
    },
    "tags": []
   },
   "outputs": [
    {
     "name": "stderr",
     "output_type": "stream",
     "text": [
      "/opt/conda/lib/python3.7/site-packages/seaborn/_decorators.py:43: FutureWarning: Pass the following variable as a keyword arg: x. From version 0.12, the only valid positional argument will be `data`, and passing other arguments without an explicit keyword will result in an error or misinterpretation.\n",
      "  FutureWarning\n"
     ]
    },
    {
     "data": {
      "text/plain": [
       "<AxesSubplot:xlabel='International Reputation', ylabel='count'>"
      ]
     },
     "execution_count": 46,
     "metadata": {},
     "output_type": "execute_result"
    },
    {
     "data": {
      "image/png": "[encoded data removed]",
      "text/plain": [
       "<Figure size 432x288 with 1 Axes>"
      ]
     },
     "metadata": {
      "needs_background": "light"
     },
     "output_type": "display_data"
    }
   ],
   "source": [
    "sns.countplot(df['International Reputation'])"
   ]
  },
  {
   "cell_type": "code",
   "execution_count": 47,
   "id": "4882e1a0",
   "metadata": {
    "execution": {
     "iopub.execute_input": "2022-03-05T12:04:51.369507Z",
     "iopub.status.busy": "2022-03-05T12:04:51.368522Z",
     "iopub.status.idle": "2022-03-05T12:04:51.390156Z",
     "shell.execute_reply": "2022-03-05T12:04:51.390640Z",
     "shell.execute_reply.started": "2022-03-05T11:34:57.870510Z"
    },
    "papermill": {
     "duration": 0.118455,
     "end_time": "2022-03-05T12:04:51.390852",
     "exception": false,
     "start_time": "2022-03-05T12:04:51.272397",
     "status": "completed"
    },
    "tags": []
   },
   "outputs": [
    {
     "data": {
      "text/html": [
       "<div>\n",
       "<style scoped>\n",
       "    .dataframe tbody tr th:only-of-type {\n",
       "        vertical-align: middle;\n",
       "    }\n",
       "\n",
       "    .dataframe tbody tr th {\n",
       "        vertical-align: top;\n",
       "    }\n",
       "\n",
       "    .dataframe thead th {\n",
       "        text-align: right;\n",
       "    }\n",
       "</style>\n",
       "<table border=\"1\" class=\"dataframe\">\n",
       "  <thead>\n",
       "    <tr style=\"text-align: right;\">\n",
       "      <th></th>\n",
       "      <th>ID</th>\n",
       "      <th>Name</th>\n",
       "      <th>Age</th>\n",
       "      <th>Nationality</th>\n",
       "      <th>Overall</th>\n",
       "      <th>Potential</th>\n",
       "      <th>Club</th>\n",
       "      <th>Value</th>\n",
       "      <th>Wage</th>\n",
       "      <th>Preferred Foot</th>\n",
       "      <th>International Reputation</th>\n",
       "      <th>Skill Moves</th>\n",
       "      <th>Position</th>\n",
       "      <th>Joined</th>\n",
       "      <th>Contract Valid Until</th>\n",
       "      <th>Height</th>\n",
       "      <th>Weight</th>\n",
       "      <th>Release Clause</th>\n",
       "    </tr>\n",
       "  </thead>\n",
       "  <tbody>\n",
       "    <tr>\n",
       "      <th>0</th>\n",
       "      <td>158023</td>\n",
       "      <td>L. Messi</td>\n",
       "      <td>31</td>\n",
       "      <td>Argentina</td>\n",
       "      <td>94</td>\n",
       "      <td>94</td>\n",
       "      <td>FC Barcelona</td>\n",
       "      <td>110500.0</td>\n",
       "      <td>565.0</td>\n",
       "      <td>Left</td>\n",
       "      <td>5.0</td>\n",
       "      <td>4.0</td>\n",
       "      <td>RF</td>\n",
       "      <td>2004</td>\n",
       "      <td>2021-01-01</td>\n",
       "      <td>5.583333</td>\n",
       "      <td>159.0</td>\n",
       "      <td>226500.0</td>\n",
       "    </tr>\n",
       "    <tr>\n",
       "      <th>1</th>\n",
       "      <td>20801</td>\n",
       "      <td>Cristiano Ronaldo</td>\n",
       "      <td>33</td>\n",
       "      <td>Portugal</td>\n",
       "      <td>94</td>\n",
       "      <td>94</td>\n",
       "      <td>Juventus</td>\n",
       "      <td>77000.0</td>\n",
       "      <td>405.0</td>\n",
       "      <td>Right</td>\n",
       "      <td>5.0</td>\n",
       "      <td>5.0</td>\n",
       "      <td>ST</td>\n",
       "      <td>2018</td>\n",
       "      <td>2022-01-01</td>\n",
       "      <td>6.166667</td>\n",
       "      <td>183.0</td>\n",
       "      <td>127100.0</td>\n",
       "    </tr>\n",
       "    <tr>\n",
       "      <th>2</th>\n",
       "      <td>190871</td>\n",
       "      <td>Neymar Jr</td>\n",
       "      <td>26</td>\n",
       "      <td>Brazil</td>\n",
       "      <td>92</td>\n",
       "      <td>93</td>\n",
       "      <td>Paris Saint-Germain</td>\n",
       "      <td>118500.0</td>\n",
       "      <td>290.0</td>\n",
       "      <td>Right</td>\n",
       "      <td>5.0</td>\n",
       "      <td>5.0</td>\n",
       "      <td>LW</td>\n",
       "      <td>2017</td>\n",
       "      <td>2022-01-01</td>\n",
       "      <td>5.750000</td>\n",
       "      <td>150.0</td>\n",
       "      <td>228100.0</td>\n",
       "    </tr>\n",
       "    <tr>\n",
       "      <th>3</th>\n",
       "      <td>193080</td>\n",
       "      <td>De Gea</td>\n",
       "      <td>27</td>\n",
       "      <td>Spain</td>\n",
       "      <td>91</td>\n",
       "      <td>93</td>\n",
       "      <td>Manchester United</td>\n",
       "      <td>72000.0</td>\n",
       "      <td>260.0</td>\n",
       "      <td>Right</td>\n",
       "      <td>4.0</td>\n",
       "      <td>1.0</td>\n",
       "      <td>GK</td>\n",
       "      <td>2011</td>\n",
       "      <td>2020-01-01</td>\n",
       "      <td>6.333333</td>\n",
       "      <td>168.0</td>\n",
       "      <td>138600.0</td>\n",
       "    </tr>\n",
       "    <tr>\n",
       "      <th>4</th>\n",
       "      <td>192985</td>\n",
       "      <td>K. De Bruyne</td>\n",
       "      <td>27</td>\n",
       "      <td>Belgium</td>\n",
       "      <td>91</td>\n",
       "      <td>92</td>\n",
       "      <td>Manchester City</td>\n",
       "      <td>102000.0</td>\n",
       "      <td>355.0</td>\n",
       "      <td>Right</td>\n",
       "      <td>4.0</td>\n",
       "      <td>4.0</td>\n",
       "      <td>RCM</td>\n",
       "      <td>2015</td>\n",
       "      <td>2023-01-01</td>\n",
       "      <td>5.916667</td>\n",
       "      <td>154.0</td>\n",
       "      <td>196400.0</td>\n",
       "    </tr>\n",
       "  </tbody>\n",
       "</table>\n",
       "</div>"
      ],
      "text/plain": [
       "       ID               Name  Age Nationality  Overall  Potential  \\\n",
       "0  158023           L. Messi   31   Argentina       94         94   \n",
       "1   20801  Cristiano Ronaldo   33    Portugal       94         94   \n",
       "2  190871          Neymar Jr   26      Brazil       92         93   \n",
       "3  193080             De Gea   27       Spain       91         93   \n",
       "4  192985       K. De Bruyne   27     Belgium       91         92   \n",
       "\n",
       "                  Club     Value   Wage Preferred Foot  \\\n",
       "0         FC Barcelona  110500.0  565.0           Left   \n",
       "1             Juventus   77000.0  405.0          Right   \n",
       "2  Paris Saint-Germain  118500.0  290.0          Right   \n",
       "3    Manchester United   72000.0  260.0          Right   \n",
       "4      Manchester City  102000.0  355.0          Right   \n",
       "\n",
       "   International Reputation  Skill Moves Position  Joined  \\\n",
       "0                       5.0          4.0       RF    2004   \n",
       "1                       5.0          5.0       ST    2018   \n",
       "2                       5.0          5.0       LW    2017   \n",
       "3                       4.0          1.0       GK    2011   \n",
       "4                       4.0          4.0      RCM    2015   \n",
       "\n",
       "  Contract Valid Until    Height  Weight  Release Clause  \n",
       "0           2021-01-01  5.583333   159.0        226500.0  \n",
       "1           2022-01-01  6.166667   183.0        127100.0  \n",
       "2           2022-01-01  5.750000   150.0        228100.0  \n",
       "3           2020-01-01  6.333333   168.0        138600.0  \n",
       "4           2023-01-01  5.916667   154.0        196400.0  "
      ]
     },
     "execution_count": 47,
     "metadata": {},
     "output_type": "execute_result"
    }
   ],
   "source": [
    "df10 = df['International Reputation'].astype(int)\n",
    "df11 = df\n",
    "df11.head()"
   ]
  },
  {
   "cell_type": "code",
   "execution_count": 48,
   "id": "2dde7acd",
   "metadata": {
    "execution": {
     "iopub.execute_input": "2022-03-05T12:04:51.581888Z",
     "iopub.status.busy": "2022-03-05T12:04:51.581264Z",
     "iopub.status.idle": "2022-03-05T12:04:51.585109Z",
     "shell.execute_reply": "2022-03-05T12:04:51.585578Z",
     "shell.execute_reply.started": "2022-03-05T11:35:42.432829Z"
    },
    "papermill": {
     "duration": 0.100219,
     "end_time": "2022-03-05T12:04:51.585759",
     "exception": false,
     "start_time": "2022-03-05T12:04:51.485540",
     "status": "completed"
    },
    "tags": []
   },
   "outputs": [],
   "source": [
    "df11['International Reputation']= df10\n"
   ]
  },
  {
   "cell_type": "code",
   "execution_count": 49,
   "id": "0ba0d430",
   "metadata": {
    "execution": {
     "iopub.execute_input": "2022-03-05T12:04:51.776455Z",
     "iopub.status.busy": "2022-03-05T12:04:51.775523Z",
     "iopub.status.idle": "2022-03-05T12:04:51.796015Z",
     "shell.execute_reply": "2022-03-05T12:04:51.796609Z",
     "shell.execute_reply.started": "2022-03-05T11:35:53.001221Z"
    },
    "papermill": {
     "duration": 0.117587,
     "end_time": "2022-03-05T12:04:51.796793",
     "exception": false,
     "start_time": "2022-03-05T12:04:51.679206",
     "status": "completed"
    },
    "tags": []
   },
   "outputs": [
    {
     "data": {
      "text/html": [
       "<div>\n",
       "<style scoped>\n",
       "    .dataframe tbody tr th:only-of-type {\n",
       "        vertical-align: middle;\n",
       "    }\n",
       "\n",
       "    .dataframe tbody tr th {\n",
       "        vertical-align: top;\n",
       "    }\n",
       "\n",
       "    .dataframe thead th {\n",
       "        text-align: right;\n",
       "    }\n",
       "</style>\n",
       "<table border=\"1\" class=\"dataframe\">\n",
       "  <thead>\n",
       "    <tr style=\"text-align: right;\">\n",
       "      <th></th>\n",
       "      <th>ID</th>\n",
       "      <th>Name</th>\n",
       "      <th>Age</th>\n",
       "      <th>Nationality</th>\n",
       "      <th>Overall</th>\n",
       "      <th>Potential</th>\n",
       "      <th>Club</th>\n",
       "      <th>Value</th>\n",
       "      <th>Wage</th>\n",
       "      <th>Preferred Foot</th>\n",
       "      <th>International Reputation</th>\n",
       "      <th>Skill Moves</th>\n",
       "      <th>Position</th>\n",
       "      <th>Joined</th>\n",
       "      <th>Contract Valid Until</th>\n",
       "      <th>Height</th>\n",
       "      <th>Weight</th>\n",
       "      <th>Release Clause</th>\n",
       "    </tr>\n",
       "  </thead>\n",
       "  <tbody>\n",
       "    <tr>\n",
       "      <th>0</th>\n",
       "      <td>158023</td>\n",
       "      <td>L. Messi</td>\n",
       "      <td>31</td>\n",
       "      <td>Argentina</td>\n",
       "      <td>94</td>\n",
       "      <td>94</td>\n",
       "      <td>FC Barcelona</td>\n",
       "      <td>110500.0</td>\n",
       "      <td>565.0</td>\n",
       "      <td>Left</td>\n",
       "      <td>5</td>\n",
       "      <td>4.0</td>\n",
       "      <td>RF</td>\n",
       "      <td>2004</td>\n",
       "      <td>2021-01-01</td>\n",
       "      <td>5.583333</td>\n",
       "      <td>159.0</td>\n",
       "      <td>226500.0</td>\n",
       "    </tr>\n",
       "    <tr>\n",
       "      <th>1</th>\n",
       "      <td>20801</td>\n",
       "      <td>Cristiano Ronaldo</td>\n",
       "      <td>33</td>\n",
       "      <td>Portugal</td>\n",
       "      <td>94</td>\n",
       "      <td>94</td>\n",
       "      <td>Juventus</td>\n",
       "      <td>77000.0</td>\n",
       "      <td>405.0</td>\n",
       "      <td>Right</td>\n",
       "      <td>5</td>\n",
       "      <td>5.0</td>\n",
       "      <td>ST</td>\n",
       "      <td>2018</td>\n",
       "      <td>2022-01-01</td>\n",
       "      <td>6.166667</td>\n",
       "      <td>183.0</td>\n",
       "      <td>127100.0</td>\n",
       "    </tr>\n",
       "    <tr>\n",
       "      <th>2</th>\n",
       "      <td>190871</td>\n",
       "      <td>Neymar Jr</td>\n",
       "      <td>26</td>\n",
       "      <td>Brazil</td>\n",
       "      <td>92</td>\n",
       "      <td>93</td>\n",
       "      <td>Paris Saint-Germain</td>\n",
       "      <td>118500.0</td>\n",
       "      <td>290.0</td>\n",
       "      <td>Right</td>\n",
       "      <td>5</td>\n",
       "      <td>5.0</td>\n",
       "      <td>LW</td>\n",
       "      <td>2017</td>\n",
       "      <td>2022-01-01</td>\n",
       "      <td>5.750000</td>\n",
       "      <td>150.0</td>\n",
       "      <td>228100.0</td>\n",
       "    </tr>\n",
       "    <tr>\n",
       "      <th>3</th>\n",
       "      <td>193080</td>\n",
       "      <td>De Gea</td>\n",
       "      <td>27</td>\n",
       "      <td>Spain</td>\n",
       "      <td>91</td>\n",
       "      <td>93</td>\n",
       "      <td>Manchester United</td>\n",
       "      <td>72000.0</td>\n",
       "      <td>260.0</td>\n",
       "      <td>Right</td>\n",
       "      <td>4</td>\n",
       "      <td>1.0</td>\n",
       "      <td>GK</td>\n",
       "      <td>2011</td>\n",
       "      <td>2020-01-01</td>\n",
       "      <td>6.333333</td>\n",
       "      <td>168.0</td>\n",
       "      <td>138600.0</td>\n",
       "    </tr>\n",
       "    <tr>\n",
       "      <th>4</th>\n",
       "      <td>192985</td>\n",
       "      <td>K. De Bruyne</td>\n",
       "      <td>27</td>\n",
       "      <td>Belgium</td>\n",
       "      <td>91</td>\n",
       "      <td>92</td>\n",
       "      <td>Manchester City</td>\n",
       "      <td>102000.0</td>\n",
       "      <td>355.0</td>\n",
       "      <td>Right</td>\n",
       "      <td>4</td>\n",
       "      <td>4.0</td>\n",
       "      <td>RCM</td>\n",
       "      <td>2015</td>\n",
       "      <td>2023-01-01</td>\n",
       "      <td>5.916667</td>\n",
       "      <td>154.0</td>\n",
       "      <td>196400.0</td>\n",
       "    </tr>\n",
       "  </tbody>\n",
       "</table>\n",
       "</div>"
      ],
      "text/plain": [
       "       ID               Name  Age Nationality  Overall  Potential  \\\n",
       "0  158023           L. Messi   31   Argentina       94         94   \n",
       "1   20801  Cristiano Ronaldo   33    Portugal       94         94   \n",
       "2  190871          Neymar Jr   26      Brazil       92         93   \n",
       "3  193080             De Gea   27       Spain       91         93   \n",
       "4  192985       K. De Bruyne   27     Belgium       91         92   \n",
       "\n",
       "                  Club     Value   Wage Preferred Foot  \\\n",
       "0         FC Barcelona  110500.0  565.0           Left   \n",
       "1             Juventus   77000.0  405.0          Right   \n",
       "2  Paris Saint-Germain  118500.0  290.0          Right   \n",
       "3    Manchester United   72000.0  260.0          Right   \n",
       "4      Manchester City  102000.0  355.0          Right   \n",
       "\n",
       "   International Reputation  Skill Moves Position  Joined  \\\n",
       "0                         5          4.0       RF    2004   \n",
       "1                         5          5.0       ST    2018   \n",
       "2                         5          5.0       LW    2017   \n",
       "3                         4          1.0       GK    2011   \n",
       "4                         4          4.0      RCM    2015   \n",
       "\n",
       "  Contract Valid Until    Height  Weight  Release Clause  \n",
       "0           2021-01-01  5.583333   159.0        226500.0  \n",
       "1           2022-01-01  6.166667   183.0        127100.0  \n",
       "2           2022-01-01  5.750000   150.0        228100.0  \n",
       "3           2020-01-01  6.333333   168.0        138600.0  \n",
       "4           2023-01-01  5.916667   154.0        196400.0  "
      ]
     },
     "execution_count": 49,
     "metadata": {},
     "output_type": "execute_result"
    }
   ],
   "source": [
    "df11.head()"
   ]
  },
  {
   "cell_type": "code",
   "execution_count": 50,
   "id": "1fd76ca2",
   "metadata": {
    "execution": {
     "iopub.execute_input": "2022-03-05T12:04:51.992926Z",
     "iopub.status.busy": "2022-03-05T12:04:51.991879Z",
     "iopub.status.idle": "2022-03-05T12:04:52.017015Z",
     "shell.execute_reply": "2022-03-05T12:04:52.017615Z",
     "shell.execute_reply.started": "2022-03-05T11:38:07.001913Z"
    },
    "papermill": {
     "duration": 0.125302,
     "end_time": "2022-03-05T12:04:52.017817",
     "exception": false,
     "start_time": "2022-03-05T12:04:51.892515",
     "status": "completed"
    },
    "tags": []
   },
   "outputs": [
    {
     "data": {
      "text/html": [
       "<div>\n",
       "<style scoped>\n",
       "    .dataframe tbody tr th:only-of-type {\n",
       "        vertical-align: middle;\n",
       "    }\n",
       "\n",
       "    .dataframe tbody tr th {\n",
       "        vertical-align: top;\n",
       "    }\n",
       "\n",
       "    .dataframe thead th {\n",
       "        text-align: right;\n",
       "    }\n",
       "</style>\n",
       "<table border=\"1\" class=\"dataframe\">\n",
       "  <thead>\n",
       "    <tr style=\"text-align: right;\">\n",
       "      <th></th>\n",
       "      <th>ID</th>\n",
       "      <th>Name</th>\n",
       "      <th>Age</th>\n",
       "      <th>Nationality</th>\n",
       "      <th>Overall</th>\n",
       "      <th>Potential</th>\n",
       "      <th>Club</th>\n",
       "      <th>Value</th>\n",
       "      <th>Wage</th>\n",
       "      <th>Preferred Foot</th>\n",
       "      <th>International Reputation</th>\n",
       "      <th>Skill Moves</th>\n",
       "      <th>Position</th>\n",
       "      <th>Joined</th>\n",
       "      <th>Contract Valid Until</th>\n",
       "      <th>Height</th>\n",
       "      <th>Weight</th>\n",
       "      <th>Release Clause</th>\n",
       "    </tr>\n",
       "  </thead>\n",
       "  <tbody>\n",
       "    <tr>\n",
       "      <th>0</th>\n",
       "      <td>158023</td>\n",
       "      <td>L. Messi</td>\n",
       "      <td>31</td>\n",
       "      <td>Argentina</td>\n",
       "      <td>94</td>\n",
       "      <td>94</td>\n",
       "      <td>FC Barcelona</td>\n",
       "      <td>110500.0</td>\n",
       "      <td>565.0</td>\n",
       "      <td>Left</td>\n",
       "      <td>5</td>\n",
       "      <td>4.0</td>\n",
       "      <td>RF</td>\n",
       "      <td>2004</td>\n",
       "      <td>2021-01-01</td>\n",
       "      <td>5.583333</td>\n",
       "      <td>159.0</td>\n",
       "      <td>226500.0</td>\n",
       "    </tr>\n",
       "    <tr>\n",
       "      <th>1</th>\n",
       "      <td>20801</td>\n",
       "      <td>Cristiano Ronaldo</td>\n",
       "      <td>33</td>\n",
       "      <td>Portugal</td>\n",
       "      <td>94</td>\n",
       "      <td>94</td>\n",
       "      <td>Juventus</td>\n",
       "      <td>77000.0</td>\n",
       "      <td>405.0</td>\n",
       "      <td>Right</td>\n",
       "      <td>5</td>\n",
       "      <td>5.0</td>\n",
       "      <td>ST</td>\n",
       "      <td>2018</td>\n",
       "      <td>2022-01-01</td>\n",
       "      <td>6.166667</td>\n",
       "      <td>183.0</td>\n",
       "      <td>127100.0</td>\n",
       "    </tr>\n",
       "    <tr>\n",
       "      <th>2</th>\n",
       "      <td>190871</td>\n",
       "      <td>Neymar Jr</td>\n",
       "      <td>26</td>\n",
       "      <td>Brazil</td>\n",
       "      <td>92</td>\n",
       "      <td>93</td>\n",
       "      <td>Paris Saint-Germain</td>\n",
       "      <td>118500.0</td>\n",
       "      <td>290.0</td>\n",
       "      <td>Right</td>\n",
       "      <td>5</td>\n",
       "      <td>5.0</td>\n",
       "      <td>LW</td>\n",
       "      <td>2017</td>\n",
       "      <td>2022-01-01</td>\n",
       "      <td>5.750000</td>\n",
       "      <td>150.0</td>\n",
       "      <td>228100.0</td>\n",
       "    </tr>\n",
       "    <tr>\n",
       "      <th>7</th>\n",
       "      <td>176580</td>\n",
       "      <td>L. Suárez</td>\n",
       "      <td>31</td>\n",
       "      <td>Uruguay</td>\n",
       "      <td>91</td>\n",
       "      <td>91</td>\n",
       "      <td>FC Barcelona</td>\n",
       "      <td>80000.0</td>\n",
       "      <td>455.0</td>\n",
       "      <td>Right</td>\n",
       "      <td>5</td>\n",
       "      <td>3.0</td>\n",
       "      <td>RS</td>\n",
       "      <td>2014</td>\n",
       "      <td>2021-01-01</td>\n",
       "      <td>6.000000</td>\n",
       "      <td>190.0</td>\n",
       "      <td>164000.0</td>\n",
       "    </tr>\n",
       "    <tr>\n",
       "      <th>22</th>\n",
       "      <td>167495</td>\n",
       "      <td>M. Neuer</td>\n",
       "      <td>32</td>\n",
       "      <td>Germany</td>\n",
       "      <td>89</td>\n",
       "      <td>89</td>\n",
       "      <td>FC Bayern München</td>\n",
       "      <td>38000.0</td>\n",
       "      <td>130.0</td>\n",
       "      <td>Right</td>\n",
       "      <td>5</td>\n",
       "      <td>1.0</td>\n",
       "      <td>GK</td>\n",
       "      <td>2011</td>\n",
       "      <td>2021-01-01</td>\n",
       "      <td>6.333333</td>\n",
       "      <td>203.0</td>\n",
       "      <td>62700.0</td>\n",
       "    </tr>\n",
       "    <tr>\n",
       "      <th>109</th>\n",
       "      <td>41236</td>\n",
       "      <td>Z. Ibrahimović</td>\n",
       "      <td>36</td>\n",
       "      <td>Sweden</td>\n",
       "      <td>85</td>\n",
       "      <td>85</td>\n",
       "      <td>LA Galaxy</td>\n",
       "      <td>14000.0</td>\n",
       "      <td>15.0</td>\n",
       "      <td>Right</td>\n",
       "      <td>5</td>\n",
       "      <td>5.0</td>\n",
       "      <td>RS</td>\n",
       "      <td>2018</td>\n",
       "      <td>2022-01-01</td>\n",
       "      <td>6.416667</td>\n",
       "      <td>209.0</td>\n",
       "      <td>21000.0</td>\n",
       "    </tr>\n",
       "  </tbody>\n",
       "</table>\n",
       "</div>"
      ],
      "text/plain": [
       "         ID               Name  Age Nationality  Overall  Potential  \\\n",
       "0    158023           L. Messi   31   Argentina       94         94   \n",
       "1     20801  Cristiano Ronaldo   33    Portugal       94         94   \n",
       "2    190871          Neymar Jr   26      Brazil       92         93   \n",
       "7    176580          L. Suárez   31     Uruguay       91         91   \n",
       "22   167495           M. Neuer   32     Germany       89         89   \n",
       "109   41236     Z. Ibrahimović   36      Sweden       85         85   \n",
       "\n",
       "                    Club     Value   Wage Preferred Foot  \\\n",
       "0           FC Barcelona  110500.0  565.0           Left   \n",
       "1               Juventus   77000.0  405.0          Right   \n",
       "2    Paris Saint-Germain  118500.0  290.0          Right   \n",
       "7           FC Barcelona   80000.0  455.0          Right   \n",
       "22     FC Bayern München   38000.0  130.0          Right   \n",
       "109            LA Galaxy   14000.0   15.0          Right   \n",
       "\n",
       "     International Reputation  Skill Moves Position  Joined  \\\n",
       "0                           5          4.0       RF    2004   \n",
       "1                           5          5.0       ST    2018   \n",
       "2                           5          5.0       LW    2017   \n",
       "7                           5          3.0       RS    2014   \n",
       "22                          5          1.0       GK    2011   \n",
       "109                         5          5.0       RS    2018   \n",
       "\n",
       "    Contract Valid Until    Height  Weight  Release Clause  \n",
       "0             2021-01-01  5.583333   159.0        226500.0  \n",
       "1             2022-01-01  6.166667   183.0        127100.0  \n",
       "2             2022-01-01  5.750000   150.0        228100.0  \n",
       "7             2021-01-01  6.000000   190.0        164000.0  \n",
       "22            2021-01-01  6.333333   203.0         62700.0  \n",
       "109           2022-01-01  6.416667   209.0         21000.0  "
      ]
     },
     "execution_count": 50,
     "metadata": {},
     "output_type": "execute_result"
    }
   ],
   "source": [
    "high_reputation = df11[df11['International Reputation']==5]\n",
    "high_reputation"
   ]
  },
  {
   "cell_type": "code",
   "execution_count": 51,
   "id": "90f544e8",
   "metadata": {
    "execution": {
     "iopub.execute_input": "2022-03-05T12:04:52.228788Z",
     "iopub.status.busy": "2022-03-05T12:04:52.211339Z",
     "iopub.status.idle": "2022-03-05T12:04:52.404755Z",
     "shell.execute_reply": "2022-03-05T12:04:52.404198Z",
     "shell.execute_reply.started": "2022-03-05T11:41:57.518350Z"
    },
    "papermill": {
     "duration": 0.291744,
     "end_time": "2022-03-05T12:04:52.404898",
     "exception": false,
     "start_time": "2022-03-05T12:04:52.113154",
     "status": "completed"
    },
    "tags": []
   },
   "outputs": [
    {
     "data": {
      "text/plain": [
       "<BarContainer object of 6 artists>"
      ]
     },
     "execution_count": 51,
     "metadata": {},
     "output_type": "execute_result"
    },
    {
     "data": {
      "image/png": "[encoded data removed]",
      "text/plain": [
       "<Figure size 432x288 with 1 Axes>"
      ]
     },
     "metadata": {
      "needs_background": "light"
     },
     "output_type": "display_data"
    }
   ],
   "source": [
    "plt.barh(high_reputation['Name'],high_reputation['International Reputation'])"
   ]
  },
  {
   "cell_type": "code",
   "execution_count": 52,
   "id": "4f1b2a45",
   "metadata": {
    "execution": {
     "iopub.execute_input": "2022-03-05T12:04:52.603193Z",
     "iopub.status.busy": "2022-03-05T12:04:52.602560Z",
     "iopub.status.idle": "2022-03-05T12:04:53.662251Z",
     "shell.execute_reply": "2022-03-05T12:04:53.663107Z",
     "shell.execute_reply.started": "2022-03-05T11:44:14.264390Z"
    },
    "papermill": {
     "duration": 1.161791,
     "end_time": "2022-03-05T12:04:53.663373",
     "exception": false,
     "start_time": "2022-03-05T12:04:52.501582",
     "status": "completed"
    },
    "tags": []
   },
   "outputs": [
    {
     "data": {
      "image/png": "[encoded data removed]",
      "text/plain": [
       "<Figure size 432x288 with 1 Axes>"
      ]
     },
     "metadata": {
      "needs_background": "light"
     },
     "output_type": "display_data"
    }
   ],
   "source": [
    "from wordcloud import WordCloud\n",
    "text = \" \".join(review for review in df.Name)\n",
    "wordcloud = WordCloud(background_color=\"black\").generate(text)\n",
    "plt.imshow(wordcloud, interpolation='bilinear')\n",
    "plt.axis(\"off\")\n",
    "plt.show()"
   ]
  },
  {
   "cell_type": "code",
   "execution_count": 53,
   "id": "0a0731a1",
   "metadata": {
    "execution": {
     "iopub.execute_input": "2022-03-05T12:04:53.867123Z",
     "iopub.status.busy": "2022-03-05T12:04:53.866424Z",
     "iopub.status.idle": "2022-03-05T12:04:53.870988Z",
     "shell.execute_reply": "2022-03-05T12:04:53.871558Z",
     "shell.execute_reply.started": "2022-03-05T11:47:23.623359Z"
    },
    "papermill": {
     "duration": 0.108971,
     "end_time": "2022-03-05T12:04:53.871739",
     "exception": false,
     "start_time": "2022-03-05T12:04:53.762768",
     "status": "completed"
    },
    "tags": []
   },
   "outputs": [
    {
     "data": {
      "text/plain": [
       "array(['RF', 'ST', 'LW', 'GK', 'RCM', 'LF', 'RS', 'RCB', 'LCM', 'CB',\n",
       "       'LDM', 'CAM', 'CDM', 'LS', 'LCB', 'RM', 'LAM', 'LM', 'LB', 'RDM',\n",
       "       'RW', 'CM', 'RB', 'RAM', 'CF', 'RWB', 'LWB'], dtype=object)"
      ]
     },
     "execution_count": 53,
     "metadata": {},
     "output_type": "execute_result"
    }
   ],
   "source": [
    "df.Position.unique()"
   ]
  },
  {
   "cell_type": "code",
   "execution_count": 54,
   "id": "4f1cb722",
   "metadata": {
    "execution": {
     "iopub.execute_input": "2022-03-05T12:04:54.075189Z",
     "iopub.status.busy": "2022-03-05T12:04:54.074578Z",
     "iopub.status.idle": "2022-03-05T12:04:54.090133Z",
     "shell.execute_reply": "2022-03-05T12:04:54.090753Z",
     "shell.execute_reply.started": "2022-03-05T11:51:17.406217Z"
    },
    "papermill": {
     "duration": 0.118452,
     "end_time": "2022-03-05T12:04:54.090918",
     "exception": false,
     "start_time": "2022-03-05T12:04:53.972466",
     "status": "completed"
    },
    "tags": []
   },
   "outputs": [
    {
     "data": {
      "text/html": [
       "<div>\n",
       "<style scoped>\n",
       "    .dataframe tbody tr th:only-of-type {\n",
       "        vertical-align: middle;\n",
       "    }\n",
       "\n",
       "    .dataframe tbody tr th {\n",
       "        vertical-align: top;\n",
       "    }\n",
       "\n",
       "    .dataframe thead th {\n",
       "        text-align: right;\n",
       "    }\n",
       "</style>\n",
       "<table border=\"1\" class=\"dataframe\">\n",
       "  <thead>\n",
       "    <tr style=\"text-align: right;\">\n",
       "      <th></th>\n",
       "      <th>Club</th>\n",
       "      <th>International Reputation</th>\n",
       "    </tr>\n",
       "  </thead>\n",
       "  <tbody>\n",
       "    <tr>\n",
       "      <th>0</th>\n",
       "      <td>SSV Jahn Regensburg</td>\n",
       "      <td>1.000000</td>\n",
       "    </tr>\n",
       "    <tr>\n",
       "      <th>1</th>\n",
       "      <td>1. FC Heidenheim 1846</td>\n",
       "      <td>1.000000</td>\n",
       "    </tr>\n",
       "    <tr>\n",
       "      <th>2</th>\n",
       "      <td>1. FC Kaiserslautern</td>\n",
       "      <td>1.000000</td>\n",
       "    </tr>\n",
       "    <tr>\n",
       "      <th>3</th>\n",
       "      <td>1. FC Köln</td>\n",
       "      <td>1.321429</td>\n",
       "    </tr>\n",
       "    <tr>\n",
       "      <th>4</th>\n",
       "      <td>1. FC Magdeburg</td>\n",
       "      <td>1.038462</td>\n",
       "    </tr>\n",
       "    <tr>\n",
       "      <th>...</th>\n",
       "      <td>...</td>\n",
       "      <td>...</td>\n",
       "    </tr>\n",
       "    <tr>\n",
       "      <th>646</th>\n",
       "      <td>Zagłębie Sosnowiec</td>\n",
       "      <td>1.000000</td>\n",
       "    </tr>\n",
       "    <tr>\n",
       "      <th>647</th>\n",
       "      <td>Çaykur Rizespor</td>\n",
       "      <td>1.000000</td>\n",
       "    </tr>\n",
       "    <tr>\n",
       "      <th>648</th>\n",
       "      <td>Örebro SK</td>\n",
       "      <td>1.000000</td>\n",
       "    </tr>\n",
       "    <tr>\n",
       "      <th>649</th>\n",
       "      <td>Östersunds FK</td>\n",
       "      <td>1.000000</td>\n",
       "    </tr>\n",
       "    <tr>\n",
       "      <th>650</th>\n",
       "      <td>Śląsk Wrocław</td>\n",
       "      <td>1.000000</td>\n",
       "    </tr>\n",
       "  </tbody>\n",
       "</table>\n",
       "<p>651 rows × 2 columns</p>\n",
       "</div>"
      ],
      "text/plain": [
       "                      Club  International Reputation\n",
       "0      SSV Jahn Regensburg                  1.000000\n",
       "1    1. FC Heidenheim 1846                  1.000000\n",
       "2     1. FC Kaiserslautern                  1.000000\n",
       "3               1. FC Köln                  1.321429\n",
       "4          1. FC Magdeburg                  1.038462\n",
       "..                     ...                       ...\n",
       "646     Zagłębie Sosnowiec                  1.000000\n",
       "647        Çaykur Rizespor                  1.000000\n",
       "648              Örebro SK                  1.000000\n",
       "649          Östersunds FK                  1.000000\n",
       "650          Śląsk Wrocław                  1.000000\n",
       "\n",
       "[651 rows x 2 columns]"
      ]
     },
     "execution_count": 54,
     "metadata": {},
     "output_type": "execute_result"
    }
   ],
   "source": [
    "average_reputation = df.groupby('Club', as_index=False)['International Reputation'].mean()\n",
    "average_reputation"
   ]
  },
  {
   "cell_type": "code",
   "execution_count": 55,
   "id": "65445df9",
   "metadata": {
    "execution": {
     "iopub.execute_input": "2022-03-05T12:04:54.293546Z",
     "iopub.status.busy": "2022-03-05T12:04:54.292929Z",
     "iopub.status.idle": "2022-03-05T12:04:54.299741Z",
     "shell.execute_reply": "2022-03-05T12:04:54.300331Z",
     "shell.execute_reply.started": "2022-03-05T11:58:15.844896Z"
    },
    "papermill": {
     "duration": 0.109601,
     "end_time": "2022-03-05T12:04:54.300500",
     "exception": false,
     "start_time": "2022-03-05T12:04:54.190899",
     "status": "completed"
    },
    "tags": []
   },
   "outputs": [
    {
     "data": {
      "text/plain": [
       "326    2.520000\n",
       "214    2.517241\n",
       "212    2.242424\n",
       "435    2.233333\n",
       "315    2.166667\n",
       "398    2.160000\n",
       "134    2.121212\n",
       "382    2.111111\n",
       "470    2.090909\n",
       "375    2.090909\n",
       "Name: International Reputation, dtype: float64"
      ]
     },
     "execution_count": 55,
     "metadata": {},
     "output_type": "execute_result"
    }
   ],
   "source": [
    "avg = average_reputation['International Reputation'].sort_values(ascending=False).head(10)\n",
    "avg"
   ]
  },
  {
   "cell_type": "code",
   "execution_count": 56,
   "id": "fc787277",
   "metadata": {
    "execution": {
     "iopub.execute_input": "2022-03-05T12:04:54.505412Z",
     "iopub.status.busy": "2022-03-05T12:04:54.504812Z",
     "iopub.status.idle": "2022-03-05T12:04:54.509370Z",
     "shell.execute_reply": "2022-03-05T12:04:54.509956Z",
     "shell.execute_reply.started": "2022-03-05T11:58:22.907817Z"
    },
    "papermill": {
     "duration": 0.108782,
     "end_time": "2022-03-05T12:04:54.510130",
     "exception": false,
     "start_time": "2022-03-05T12:04:54.401348",
     "status": "completed"
    },
    "tags": []
   },
   "outputs": [
    {
     "data": {
      "text/plain": [
       "Int64Index([326, 214, 212, 435, 315, 398, 134, 382, 470, 375], dtype='int64')"
      ]
     },
     "execution_count": 56,
     "metadata": {},
     "output_type": "execute_result"
    }
   ],
   "source": [
    "avg.index"
   ]
  },
  {
   "cell_type": "code",
   "execution_count": 57,
   "id": "605915b4",
   "metadata": {
    "execution": {
     "iopub.execute_input": "2022-03-05T12:04:54.714010Z",
     "iopub.status.busy": "2022-03-05T12:04:54.713392Z",
     "iopub.status.idle": "2022-03-05T12:04:54.935968Z",
     "shell.execute_reply": "2022-03-05T12:04:54.935345Z",
     "shell.execute_reply.started": "2022-03-05T11:59:47.155242Z"
    },
    "papermill": {
     "duration": 0.325226,
     "end_time": "2022-03-05T12:04:54.936117",
     "exception": false,
     "start_time": "2022-03-05T12:04:54.610891",
     "status": "completed"
    },
    "tags": []
   },
   "outputs": [
    {
     "data": {
      "text/plain": [
       "<BarContainer object of 10 artists>"
      ]
     },
     "execution_count": 57,
     "metadata": {},
     "output_type": "execute_result"
    },
    {
     "data": {
      "image/png": "[encoded data removed]",
      "text/plain": [
       "<Figure size 432x288 with 1 Axes>"
      ]
     },
     "metadata": {
      "needs_background": "light"
     },
     "output_type": "display_data"
    }
   ],
   "source": [
    "plt.barh(df.loc[avg.index].Club,avg.values)"
   ]
  },
  {
   "cell_type": "code",
   "execution_count": 58,
   "id": "da217d33",
   "metadata": {
    "execution": {
     "iopub.execute_input": "2022-03-05T12:04:55.144885Z",
     "iopub.status.busy": "2022-03-05T12:04:55.144128Z",
     "iopub.status.idle": "2022-03-05T12:04:55.152328Z",
     "shell.execute_reply": "2022-03-05T12:04:55.152913Z",
     "shell.execute_reply.started": "2022-03-05T12:01:20.844136Z"
    },
    "papermill": {
     "duration": 0.113917,
     "end_time": "2022-03-05T12:04:55.153095",
     "exception": false,
     "start_time": "2022-03-05T12:04:55.039178",
     "status": "completed"
    },
    "tags": []
   },
   "outputs": [
    {
     "data": {
      "text/plain": [
       "ST     2130\n",
       "GK     1989\n",
       "CB     1751\n",
       "CM     1377\n",
       "LB     1304\n",
       "RB     1268\n",
       "RM     1114\n",
       "LM     1086\n",
       "CAM     946\n",
       "CDM     936\n",
       "Name: Position, dtype: int64"
      ]
     },
     "execution_count": 58,
     "metadata": {},
     "output_type": "execute_result"
    }
   ],
   "source": [
    "position = df['Position'].value_counts().head(10)\n",
    "position"
   ]
  },
  {
   "cell_type": "code",
   "execution_count": 59,
   "id": "710bf35d",
   "metadata": {
    "execution": {
     "iopub.execute_input": "2022-03-05T12:04:55.361626Z",
     "iopub.status.busy": "2022-03-05T12:04:55.361006Z",
     "iopub.status.idle": "2022-03-05T12:04:55.578494Z",
     "shell.execute_reply": "2022-03-05T12:04:55.578989Z",
     "shell.execute_reply.started": "2022-03-05T12:02:27.614036Z"
    },
    "papermill": {
     "duration": 0.323328,
     "end_time": "2022-03-05T12:04:55.579172",
     "exception": false,
     "start_time": "2022-03-05T12:04:55.255844",
     "status": "completed"
    },
    "tags": []
   },
   "outputs": [
    {
     "data": {
      "text/plain": [
       "<BarContainer object of 10 artists>"
      ]
     },
     "execution_count": 59,
     "metadata": {},
     "output_type": "execute_result"
    },
    {
     "data": {
      "image/png": "[encoded data removed]",
      "text/plain": [
       "<Figure size 432x288 with 1 Axes>"
      ]
     },
     "metadata": {
      "needs_background": "light"
     },
     "output_type": "display_data"
    }
   ],
   "source": [
    "plt.barh(position.index,position.values)"
   ]
  }
 ],
 "metadata": {
  "kernelspec": {
   "display_name": "Python 3",
   "language": "python",
   "name": "python3"
  },
  "language_info": {
   "codemirror_mode": {
    "name": "ipython",
    "version": 3
   },
   "file_extension": ".py",
   "mimetype": "text/x-python",
   "name": "python",
   "nbconvert_exporter": "python",
   "pygments_lexer": "ipython3",
   "version": "3.7.12"
  },
  "papermill": {
   "default_parameters": {},
   "duration": 26.587014,
   "end_time": "2022-03-05T12:04:56.392553",
   "environment_variables": {},
   "exception": null,
   "input_path": "__notebook__.ipynb",
   "output_path": "__notebook__.ipynb",
   "parameters": {},
   "start_time": "2022-03-05T12:04:29.805539",
   "version": "2.3.3"
  }
 },
 "nbformat": 4,
 "nbformat_minor": 5
}
